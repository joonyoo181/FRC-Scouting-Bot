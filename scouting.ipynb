{
 "metadata": {
  "language_info": {
   "codemirror_mode": {
    "name": "ipython",
    "version": 3
   },
   "file_extension": ".py",
   "mimetype": "text/x-python",
   "name": "python",
   "nbconvert_exporter": "python",
   "pygments_lexer": "ipython3",
   "version": "3.8.3-final"
  },
  "orig_nbformat": 2,
  "kernelspec": {
   "name": "python3",
   "language": "python",
   "display_name": "Python 3"
  }
 },
 "nbformat": 4,
 "nbformat_minor": 2,
 "cells": [
  {
   "cell_type": "code",
   "execution_count": 1,
   "metadata": {},
   "outputs": [],
   "source": [
    "import pandas as pd"
   ]
  },
  {
   "cell_type": "code",
   "execution_count": 2,
   "metadata": {},
   "outputs": [],
   "source": [
    "df = pd.read_csv('data/2791_2019dar.csv')"
   ]
  },
  {
   "cell_type": "code",
   "execution_count": 3,
   "outputs": [
    {
     "output_type": "stream",
     "name": "stdout",
     "text": [
      "Available Teams:\n0        51\n1       868\n2      3044\n3      4381\n4      3381\n5      7651\n6       245\n7      3604\n8      1792\n9      5951\n10     1690\n11     6401\n12     5501\n13      503\n14     3618\n15     3555\n16     2500\n17      125\n18      250\n19     3624\n20     1923\n21     6806\n22     2337\n23     1317\n24      836\n25     3926\n26      236\n27      103\n28      225\n29     1918\n30     2791\n31     4253\n32     2502\n33     5348\n34     7480\n35     5943\n36     4481\n37     5567\n38     5811\n39     2771\n40      217\n41     7885\n42     1058\n43     3707\n44      365\n45      771\n46     2830\n47      190\n48     3146\n49     1218\n50     3542\n51      449\n52     7462\n53     7719\n54     5084\n55      191\n56       88\n57     1676\n58      175\n59     3667\n60      772\n61     4143\n62     1024\n63     7673\n64     2265\n65      353\n66       16\n70     1781\n197       0\nName: Team Number, dtype: int64\n"
     ]
    }
   ],
   "source": [
    "# Display a list of available teams\n",
    "teamNums = df['Team Number']\n",
    "pd.set_option('display.max_rows', None)\n",
    "print('Available Teams:')\n",
    "print(teamNums.drop_duplicates())\n",
    "pd.reset_option('display.max_rows')"
   ],
   "metadata": {
    "collapsed": false,
    "pycharm": {
     "name": "#%%\n"
    }
   }
  },
  {
   "cell_type": "code",
   "execution_count": 4,
   "metadata": {
    "pycharm": {
     "name": "#%%\n"
    }
   },
   "outputs": [
    {
     "output_type": "execute_result",
     "data": {
      "text/plain": [
       "     Team Number  Match Number Starting Position  Hab Line 1/0  \\\n",
       "0             51             1                R2             1   \n",
       "82            51            14                R2             1   \n",
       "163           51            28                L2             1   \n",
       "205           51            36                R2             1   \n",
       "356           51            63                R2             1   \n",
       "405           51            71                L2             1   \n",
       "474           51            83                 M             1   \n",
       "529           51            92                L2             1   \n",
       "634           51           111                L2             1   \n",
       "659           51           111                L2             1   \n",
       "\n",
       "     Auto # H Ship Side  Auto # H Ship Front  Auto # C Ship Side  \\\n",
       "0                     0                    0                   0   \n",
       "82                    0                    0                   0   \n",
       "163                   0                    0                   0   \n",
       "205                   1                    0                   0   \n",
       "356                   0                    0                   0   \n",
       "405                   0                    0                   0   \n",
       "474                   0                    0                   0   \n",
       "529                   0                    0                   0   \n",
       "634                   0                    0                   0   \n",
       "659                   0                    0                   0   \n",
       "\n",
       "     Auto C Rkt Lvl  Auto H Rkt Lvl  Auto H Rkt Lvl [2]  ...  Tele Dropped H  \\\n",
       "0                 0               0                   0  ...               1   \n",
       "82                0               0                   0  ...               0   \n",
       "163               0               0                   0  ...               0   \n",
       "205               0               0                   0  ...               0   \n",
       "356               0               0                   0  ...               0   \n",
       "405               0               0                   0  ...               1   \n",
       "474               0               0                   0  ...               0   \n",
       "529               0               0                   0  ...               0   \n",
       "634               0               0                   0  ...               1   \n",
       "659               0               0                   0  ...               1   \n",
       "\n",
       "     Def pl amt  Def pl quality  Def rec amt  Who Played D  Fouls? 0/1  \\\n",
       "0             0               0            0             0           0   \n",
       "82            0               0            1          6806           0   \n",
       "163           0               0            0             0           0   \n",
       "205           0               0            0             0           0   \n",
       "356           0               0            1          4481           0   \n",
       "405           3               2            0             0           0   \n",
       "474           0               0            2          7462           0   \n",
       "529           0               0            0             0           0   \n",
       "634           1               2            0             0           0   \n",
       "659           1               2            0             0           0   \n",
       "\n",
       "     Dead 0-3  Highest success  Highest attempt  Was assisted? 1/0  \n",
       "0           0                2                2                  0  \n",
       "82          0                3                3                  0  \n",
       "163         0                3                3                  0  \n",
       "205         0                3                3                  0  \n",
       "356         0                3                3                  0  \n",
       "405         0                3                3                  0  \n",
       "474         0                3                3                  0  \n",
       "529         0                2                2                  0  \n",
       "634         0                3                3                  0  \n",
       "659         0                3                3                  0  \n",
       "\n",
       "[10 rows x 31 columns]"
      ],
      "text/html": "<div>\n<style scoped>\n    .dataframe tbody tr th:only-of-type {\n        vertical-align: middle;\n    }\n\n    .dataframe tbody tr th {\n        vertical-align: top;\n    }\n\n    .dataframe thead th {\n        text-align: right;\n    }\n</style>\n<table border=\"1\" class=\"dataframe\">\n  <thead>\n    <tr style=\"text-align: right;\">\n      <th></th>\n      <th>Team Number</th>\n      <th>Match Number</th>\n      <th>Starting Position</th>\n      <th>Hab Line 1/0</th>\n      <th>Auto # H Ship Side</th>\n      <th>Auto # H Ship Front</th>\n      <th>Auto # C Ship Side</th>\n      <th>Auto C Rkt Lvl</th>\n      <th>Auto H Rkt Lvl</th>\n      <th>Auto H Rkt Lvl [2]</th>\n      <th>...</th>\n      <th>Tele Dropped H</th>\n      <th>Def pl amt</th>\n      <th>Def pl quality</th>\n      <th>Def rec amt</th>\n      <th>Who Played D</th>\n      <th>Fouls? 0/1</th>\n      <th>Dead 0-3</th>\n      <th>Highest success</th>\n      <th>Highest attempt</th>\n      <th>Was assisted? 1/0</th>\n    </tr>\n  </thead>\n  <tbody>\n    <tr>\n      <th>0</th>\n      <td>51</td>\n      <td>1</td>\n      <td>R2</td>\n      <td>1</td>\n      <td>0</td>\n      <td>0</td>\n      <td>0</td>\n      <td>0</td>\n      <td>0</td>\n      <td>0</td>\n      <td>...</td>\n      <td>1</td>\n      <td>0</td>\n      <td>0</td>\n      <td>0</td>\n      <td>0</td>\n      <td>0</td>\n      <td>0</td>\n      <td>2</td>\n      <td>2</td>\n      <td>0</td>\n    </tr>\n    <tr>\n      <th>82</th>\n      <td>51</td>\n      <td>14</td>\n      <td>R2</td>\n      <td>1</td>\n      <td>0</td>\n      <td>0</td>\n      <td>0</td>\n      <td>0</td>\n      <td>0</td>\n      <td>0</td>\n      <td>...</td>\n      <td>0</td>\n      <td>0</td>\n      <td>0</td>\n      <td>1</td>\n      <td>6806</td>\n      <td>0</td>\n      <td>0</td>\n      <td>3</td>\n      <td>3</td>\n      <td>0</td>\n    </tr>\n    <tr>\n      <th>163</th>\n      <td>51</td>\n      <td>28</td>\n      <td>L2</td>\n      <td>1</td>\n      <td>0</td>\n      <td>0</td>\n      <td>0</td>\n      <td>0</td>\n      <td>0</td>\n      <td>0</td>\n      <td>...</td>\n      <td>0</td>\n      <td>0</td>\n      <td>0</td>\n      <td>0</td>\n      <td>0</td>\n      <td>0</td>\n      <td>0</td>\n      <td>3</td>\n      <td>3</td>\n      <td>0</td>\n    </tr>\n    <tr>\n      <th>205</th>\n      <td>51</td>\n      <td>36</td>\n      <td>R2</td>\n      <td>1</td>\n      <td>1</td>\n      <td>0</td>\n      <td>0</td>\n      <td>0</td>\n      <td>0</td>\n      <td>0</td>\n      <td>...</td>\n      <td>0</td>\n      <td>0</td>\n      <td>0</td>\n      <td>0</td>\n      <td>0</td>\n      <td>0</td>\n      <td>0</td>\n      <td>3</td>\n      <td>3</td>\n      <td>0</td>\n    </tr>\n    <tr>\n      <th>356</th>\n      <td>51</td>\n      <td>63</td>\n      <td>R2</td>\n      <td>1</td>\n      <td>0</td>\n      <td>0</td>\n      <td>0</td>\n      <td>0</td>\n      <td>0</td>\n      <td>0</td>\n      <td>...</td>\n      <td>0</td>\n      <td>0</td>\n      <td>0</td>\n      <td>1</td>\n      <td>4481</td>\n      <td>0</td>\n      <td>0</td>\n      <td>3</td>\n      <td>3</td>\n      <td>0</td>\n    </tr>\n    <tr>\n      <th>405</th>\n      <td>51</td>\n      <td>71</td>\n      <td>L2</td>\n      <td>1</td>\n      <td>0</td>\n      <td>0</td>\n      <td>0</td>\n      <td>0</td>\n      <td>0</td>\n      <td>0</td>\n      <td>...</td>\n      <td>1</td>\n      <td>3</td>\n      <td>2</td>\n      <td>0</td>\n      <td>0</td>\n      <td>0</td>\n      <td>0</td>\n      <td>3</td>\n      <td>3</td>\n      <td>0</td>\n    </tr>\n    <tr>\n      <th>474</th>\n      <td>51</td>\n      <td>83</td>\n      <td>M</td>\n      <td>1</td>\n      <td>0</td>\n      <td>0</td>\n      <td>0</td>\n      <td>0</td>\n      <td>0</td>\n      <td>0</td>\n      <td>...</td>\n      <td>0</td>\n      <td>0</td>\n      <td>0</td>\n      <td>2</td>\n      <td>7462</td>\n      <td>0</td>\n      <td>0</td>\n      <td>3</td>\n      <td>3</td>\n      <td>0</td>\n    </tr>\n    <tr>\n      <th>529</th>\n      <td>51</td>\n      <td>92</td>\n      <td>L2</td>\n      <td>1</td>\n      <td>0</td>\n      <td>0</td>\n      <td>0</td>\n      <td>0</td>\n      <td>0</td>\n      <td>0</td>\n      <td>...</td>\n      <td>0</td>\n      <td>0</td>\n      <td>0</td>\n      <td>0</td>\n      <td>0</td>\n      <td>0</td>\n      <td>0</td>\n      <td>2</td>\n      <td>2</td>\n      <td>0</td>\n    </tr>\n    <tr>\n      <th>634</th>\n      <td>51</td>\n      <td>111</td>\n      <td>L2</td>\n      <td>1</td>\n      <td>0</td>\n      <td>0</td>\n      <td>0</td>\n      <td>0</td>\n      <td>0</td>\n      <td>0</td>\n      <td>...</td>\n      <td>1</td>\n      <td>1</td>\n      <td>2</td>\n      <td>0</td>\n      <td>0</td>\n      <td>0</td>\n      <td>0</td>\n      <td>3</td>\n      <td>3</td>\n      <td>0</td>\n    </tr>\n    <tr>\n      <th>659</th>\n      <td>51</td>\n      <td>111</td>\n      <td>L2</td>\n      <td>1</td>\n      <td>0</td>\n      <td>0</td>\n      <td>0</td>\n      <td>0</td>\n      <td>0</td>\n      <td>0</td>\n      <td>...</td>\n      <td>1</td>\n      <td>1</td>\n      <td>2</td>\n      <td>0</td>\n      <td>0</td>\n      <td>0</td>\n      <td>0</td>\n      <td>3</td>\n      <td>3</td>\n      <td>0</td>\n    </tr>\n  </tbody>\n</table>\n<p>10 rows × 31 columns</p>\n</div>"
     },
     "metadata": {},
     "execution_count": 4
    }
   ],
   "source": [
    "teamInput = int(input('Enter a team number'))\n",
    "teamdf = df[df['Team Number'] == teamInput]\n",
    "teamdf"
   ]
  },
  {
   "cell_type": "code",
   "execution_count": 80,
   "metadata": {},
   "outputs": [
    {
     "name": "stdout",
     "output_type": "stream",
     "text": [
      "Average Score of Team 51 is 31.9 points\n"
     ]
    }
   ],
   "source": [
    "def avg(teamdf):\n",
    "\n",
    "    totalScore = 0\n",
    "\n",
    "    for i in teamdf.index:\n",
    "\n",
    "        # Hab Line Cross\n",
    "        if teamdf['Hab Line 1/0'][i] == 1:\n",
    "            startpos = teamdf['Starting Position'][i]\n",
    "            if startpos == 'L1' or startpos == 'M' or startpos == 'R1':\n",
    "                totalScore += 3\n",
    "            elif startpos == 'L2' or startpos == 'R2':\n",
    "                totalScore += 6\n",
    "\n",
    "        # Hatch Panels\n",
    "        totalScore += 2 * (teamdf['Auto # H Ship Side'][i] + teamdf['Auto # H Ship Front'][i] +\n",
    "                        teamdf['Tele H Ship'][i] + teamdf['Tele Rocket H L1'][i] + teamdf['Tele Rocket H L2'][i] +\n",
    "                        teamdf['Tele Rocket H L3'][i])\n",
    "\n",
    "        if teamdf['Auto H Rkt Lvl'][i] > 0:\n",
    "            totalScore += 2\n",
    "\n",
    "        if teamdf['Auto H Rkt Lvl [2]'][i] > 0:\n",
    "            totalScore += 2\n",
    "\n",
    "        # Cargo\n",
    "        totalScore += 3 * (teamdf['Auto # C Ship Side'][i] + teamdf['Tele C Ship'][i] + teamdf['Tele Rocket C L1'][i] +\n",
    "                        teamdf['Tele Rocket C L2'][i] + teamdf['Tele Rocket C L3'][i])\n",
    "\n",
    "        if teamdf['Auto C Rkt Lvl'][i] > 0:\n",
    "            totalScore += 3\n",
    "\n",
    "        # Fouls\n",
    "        if teamdf['Fouls? 0/1'][i] == 1:\n",
    "            totalScore -= 7\n",
    "\n",
    "        # Hab Climb Bonus\n",
    "        level = teamdf['Highest success'][i]\n",
    "        if level == 1:\n",
    "            totalScore += 3\n",
    "        elif level == 2:\n",
    "            totalScore += 6\n",
    "        elif level == 3:\n",
    "            totalScore += 12\n",
    "        averageScore = totalScore / len(teamdf)\n",
    "\n",
    "        return averageScore\n",
    "\n",
    "print('Average Score of Team', teamInput, 'is', avg(teamdf), 'points')"
   ]
  },
  {
   "cell_type": "code",
   "execution_count": null,
   "metadata": {},
   "outputs": [],
   "source": []
  }
 ]
}