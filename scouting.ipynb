{
 "metadata": {
  "language_info": {
   "codemirror_mode": {
    "name": "ipython",
    "version": 3
   },
   "file_extension": ".py",
   "mimetype": "text/x-python",
   "name": "python",
   "nbconvert_exporter": "python",
   "pygments_lexer": "ipython3",
   "version": "3.8.3-final"
  },
  "orig_nbformat": 2,
  "kernelspec": {
   "name": "python3",
   "language": "python",
   "display_name": "Python 3"
  }
 },
 "nbformat": 4,
 "nbformat_minor": 2,
 "cells": [
  {
   "cell_type": "code",
   "execution_count": 4,
   "metadata": {},
   "outputs": [],
   "source": [
    "import pandas as pd"
   ]
  },
  {
   "cell_type": "code",
   "execution_count": 5,
   "metadata": {},
   "outputs": [],
   "source": [
    "data = pd.read_csv('data/2791_2019dar.csv')"
   ]
  },
  {
   "cell_type": "code",
   "execution_count": 6,
   "metadata": {
    "pycharm": {
     "name": "#%%\n"
    }
   },
   "outputs": [],
   "source": [
    "teaminput = int(input('Enter a team number'))\n",
    "teamdata = data[data['Team Number'] == teaminput]"
   ]
  },
  {
   "cell_type": "code",
   "execution_count": 7,
   "outputs": [
    {
     "output_type": "execute_result",
     "data": {
      "text/plain": [
       "Empty DataFrame\n",
       "Columns: [Team Number, Match Number, Starting Position, Hab Line 1/0, Auto # H Ship Side, Auto # H Ship Front, Auto # C Ship Side, Auto C Rkt Lvl, Auto H Rkt Lvl, Auto H Rkt Lvl [2], Auto # C Dropped, Auto # H Dropped, Tele H Ship, Tele C Ship, Tele Rocket H L1, Tele Rocket H L2, Tele Rocket H L3, Tele Rocket C L1, Tele Rocket C L2, Tele Rocket C L3, Tele Dropped C, Tele Dropped H, Def pl amt, Def pl quality, Def rec amt, Who Played D, Fouls? 0/1, Dead 0-3, Highest success, Highest attempt, Was assisted? 1/0]\n",
       "Index: []\n",
       "\n",
       "[0 rows x 31 columns]"
      ],
      "text/html": "<div>\n<style scoped>\n    .dataframe tbody tr th:only-of-type {\n        vertical-align: middle;\n    }\n\n    .dataframe tbody tr th {\n        vertical-align: top;\n    }\n\n    .dataframe thead th {\n        text-align: right;\n    }\n</style>\n<table border=\"1\" class=\"dataframe\">\n  <thead>\n    <tr style=\"text-align: right;\">\n      <th></th>\n      <th>Team Number</th>\n      <th>Match Number</th>\n      <th>Starting Position</th>\n      <th>Hab Line 1/0</th>\n      <th>Auto # H Ship Side</th>\n      <th>Auto # H Ship Front</th>\n      <th>Auto # C Ship Side</th>\n      <th>Auto C Rkt Lvl</th>\n      <th>Auto H Rkt Lvl</th>\n      <th>Auto H Rkt Lvl [2]</th>\n      <th>...</th>\n      <th>Tele Dropped H</th>\n      <th>Def pl amt</th>\n      <th>Def pl quality</th>\n      <th>Def rec amt</th>\n      <th>Who Played D</th>\n      <th>Fouls? 0/1</th>\n      <th>Dead 0-3</th>\n      <th>Highest success</th>\n      <th>Highest attempt</th>\n      <th>Was assisted? 1/0</th>\n    </tr>\n  </thead>\n  <tbody>\n  </tbody>\n</table>\n<p>0 rows × 31 columns</p>\n</div>"
     },
     "metadata": {},
     "execution_count": 7
    }
   ],
   "source": [
    "teamdata"
   ],
   "metadata": {
    "collapsed": false,
    "pycharm": {
     "name": "#%%\n"
    }
   }
  },
  {
   "cell_type": "code",
   "execution_count": null,
   "metadata": {},
   "outputs": [],
   "source": []
  }
 ]
}