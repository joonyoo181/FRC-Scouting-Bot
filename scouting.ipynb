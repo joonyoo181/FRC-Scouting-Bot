{
 "metadata": {
  "language_info": {
   "codemirror_mode": {
    "name": "ipython",
    "version": 3
   },
   "file_extension": ".py",
   "mimetype": "text/x-python",
   "name": "python",
   "nbconvert_exporter": "python",
   "pygments_lexer": "ipython3",
   "version": "3.8.3-final"
  },
  "orig_nbformat": 2,
  "kernelspec": {
   "name": "python3",
   "language": "python",
   "display_name": "Python 3"
  }
 },
 "nbformat": 4,
 "nbformat_minor": 2,
 "cells": [
  {
   "cell_type": "code",
   "execution_count": 185,
   "metadata": {},
   "outputs": [],
   "source": [
    "import pandas as pd"
   ]
  },
  {
   "cell_type": "code",
   "execution_count": 186,
   "metadata": {},
   "outputs": [],
   "source": [
    "df = pd.read_csv('data/2791_2019dar.csv')"
   ]
  },
  {
   "cell_type": "code",
   "execution_count": 187,
   "outputs": [
    {
     "output_type": "stream",
     "name": "stdout",
     "text": [
      "Available Teams:\n0        51\n1       868\n2      3044\n3      4381\n4      3381\n5      7651\n6       245\n7      3604\n8      1792\n9      5951\n10     1690\n11     6401\n12     5501\n13      503\n14     3618\n15     3555\n16     2500\n17      125\n18      250\n19     3624\n20     1923\n21     6806\n22     2337\n23     1317\n24      836\n25     3926\n26      236\n27      103\n28      225\n29     1918\n30     2791\n31     4253\n32     2502\n33     5348\n34     7480\n35     5943\n36     4481\n37     5567\n38     5811\n39     2771\n40      217\n41     7885\n42     1058\n43     3707\n44      365\n45      771\n46     2830\n47      190\n48     3146\n49     1218\n50     3542\n51      449\n52     7462\n53     7719\n54     5084\n55      191\n56       88\n57     1676\n58      175\n59     3667\n60      772\n61     4143\n62     1024\n63     7673\n64     2265\n65      353\n66       16\n70     1781\n197       0\nName: Team Number, dtype: int64\n"
     ]
    }
   ],
   "source": [
    "# Display a list of available teams\n",
    "team_nums = df['Team Number']\n",
    "team_nums = team_nums.drop_duplicates()\n",
    "\n",
    "pd.set_option('display.max_rows', None)\n",
    "print('Available Teams:')\n",
    "print(team_nums)\n",
    "pd.reset_option('display.max_rows')"
   ],
   "metadata": {
    "collapsed": false,
    "pycharm": {
     "name": "#%%\n"
    }
   }
  },
  {
   "cell_type": "code",
   "execution_count": 188,
   "metadata": {},
   "outputs": [],
   "source": [
    "# Calculate the average score of a specified team\n",
    "# Parameter team_num: the team number of the team to find the avg score of\n",
    "\n",
    "def avg_score(team_num):\n",
    "\n",
    "    # Creates a new dataframe containing only data for team team_num\n",
    "    teamdf = df[df['Team Number'] == team_num]\n",
    "\n",
    "    total_score = 0\n",
    "\n",
    "    for i in teamdf.index:\n",
    "\n",
    "        # Hab Line Cross\n",
    "        if teamdf['Hab Line 1/0'][i] == 1:\n",
    "            startpos = teamdf['Starting Position'][i]\n",
    "            if startpos == 'L1' or startpos == 'M' or startpos == 'R1':\n",
    "                total_score += 3\n",
    "            elif startpos == 'L2' or startpos == 'R2':\n",
    "                total_score += 6\n",
    "\n",
    "        # Hatch Panels\n",
    "        total_score += 2 * (teamdf['Auto # H Ship Side'][i] + teamdf['Auto # H Ship Front'][i] +\n",
    "                        teamdf['Tele H Ship'][i] + teamdf['Tele Rocket H L1'][i] + teamdf['Tele Rocket H L2'][i] +\n",
    "                        teamdf['Tele Rocket H L3'][i])\n",
    "\n",
    "        if teamdf['Auto H Rkt Lvl'][i] > 0:\n",
    "            total_score += 2\n",
    "\n",
    "        if teamdf['Auto H Rkt Lvl [2]'][i] > 0:\n",
    "            total_score += 2\n",
    "\n",
    "        # Cargo\n",
    "        total_score += 3 * (teamdf['Auto # C Ship Side'][i] + teamdf['Tele C Ship'][i] + teamdf['Tele Rocket C L1'][i] +\n",
    "                        teamdf['Tele Rocket C L2'][i] + teamdf['Tele Rocket C L3'][i])\n",
    "\n",
    "        if teamdf['Auto C Rkt Lvl'][i] > 0:\n",
    "            total_score += 3\n",
    "\n",
    "        # Fouls\n",
    "        if teamdf['Fouls? 0/1'][i] == 1:\n",
    "            total_score -= 7\n",
    "\n",
    "        # Hab Climb Bonus\n",
    "        level = teamdf['Highest success'][i]\n",
    "        if level == 1:\n",
    "            total_score += 3\n",
    "        elif level == 2:\n",
    "            total_score += 6\n",
    "        elif level == 3:\n",
    "            total_score += 12\n",
    "\n",
    "    return total_score / len(teamdf.index)"
   ]
  },
  {
   "cell_type": "code",
   "execution_count": 189,
   "outputs": [],
   "source": [
    "# Calculate a team's average score achieved during sandstorm\n",
    "# Parameter team_num: the team number of the team to find the avg sandstorm score of\n",
    "\n",
    "def sandstorm_score(team_num):\n",
    "\n",
    "    # Creates a new dataframe containing only data for team team_num\n",
    "    teamdf = df[df['Team Number'] == team_num]\n",
    "\n",
    "    total_score = 0\n",
    "\n",
    "    for i in teamdf.index:\n",
    "\n",
    "        # Hab Line Cross\n",
    "        if teamdf['Hab Line 1/0'][i] == 1:\n",
    "            startpos = teamdf['Starting Position'][i]\n",
    "            if startpos == 'L1' or startpos == 'M' or startpos == 'R1':\n",
    "                total_score += 3\n",
    "            elif startpos == 'L2' or startpos == 'R2':\n",
    "                total_score += 6\n",
    "\n",
    "        # Hatch Panels\n",
    "        total_score += 2 * (teamdf['Auto # H Ship Side'][i] + teamdf['Auto # H Ship Front'][i])\n",
    "\n",
    "        if teamdf['Auto H Rkt Lvl'][i] > 0:\n",
    "            total_score += 2\n",
    "\n",
    "        if teamdf['Auto H Rkt Lvl [2]'][i] > 0:\n",
    "            total_score += 2\n",
    "\n",
    "        # Cargo\n",
    "        total_score += 3 * (teamdf['Auto # C Ship Side'][i])\n",
    "\n",
    "        if teamdf['Auto C Rkt Lvl'][i] > 0:\n",
    "            total_score += 3\n",
    "\n",
    "    return total_score / len(teamdf.index)"
   ],
   "metadata": {
    "collapsed": false,
    "pycharm": {
     "name": "#%%\n"
    }
   }
  },
  {
   "cell_type": "code",
   "execution_count": 190,
   "outputs": [],
   "source": [
    "# Calculate a team's average score achieved during teleop\n",
    "# Parameter team_num: team number\n",
    "\n",
    "def teleop_score(team_num):\n",
    "\n",
    "    # Creates a new dataframe containing only data for team team_num\n",
    "    teamdf = df[df['Team Number'] == team_num]\n",
    "\n",
    "    total_score = 0\n",
    "\n",
    "    for i in teamdf.index:\n",
    "\n",
    "        # Hatch Panels\n",
    "        total_score += 2 * (teamdf['Tele H Ship'][i] + teamdf['Tele Rocket H L1'][i] + teamdf['Tele Rocket H L2'][i] +\n",
    "                            teamdf['Tele Rocket H L3'][i])\n",
    "\n",
    "        # Cargo\n",
    "        total_score += 3 * (teamdf['Tele C Ship'][i] + teamdf['Tele Rocket C L1'][i] + teamdf['Tele Rocket C L2'][i] +\n",
    "                            teamdf['Tele Rocket C L3'][i])\n",
    "\n",
    "        # Fouls\n",
    "        if teamdf['Fouls? 0/1'][i] == 1:\n",
    "            total_score -= 7\n",
    "\n",
    "    return total_score / len(teamdf.index)"
   ],
   "metadata": {
    "collapsed": false,
    "pycharm": {
     "name": "#%%\n"
    }
   }
  },
  {
   "cell_type": "code",
   "execution_count": 191,
   "outputs": [],
   "source": [
    "# Calculate a specified team's defense capability\n",
    "# Parameter team_num: the team number of the team to find the defense capability of\n",
    "\n",
    "def defense_score(team_num):\n",
    "\n",
    "    # Creates a new dataframe containing only data for team team_num\n",
    "    teamdf = df[df['Team Number'] == team_num]\n",
    "\n",
    "    defense_score = 0\n",
    "\n",
    "    for i in teamdf.index:\n",
    "        defense_score += teamdf['Def pl amt'][i] + teamdf['Def pl quality'][i]\n",
    "\n",
    "    return defense_score / len(teamdf.index)"
   ],
   "metadata": {
    "collapsed": false,
    "pycharm": {
     "name": "#%%\n"
    }
   }
  },
  {
   "cell_type": "code",
   "execution_count": 192,
   "outputs": [],
   "source": [
    "# Determine how often a specified team's bot dies\n",
    "\n",
    "def dead_score(team_num):\n",
    "\n",
    "    # Creates a new dataframe containing only data for team team_num\n",
    "    teamdf = df[df['Team Number'] == team_num]\n",
    "\n",
    "    dead_score = 0\n",
    "\n",
    "    for i in teamdf.index:\n",
    "        if teamdf['Dead 0-3'][i] == 1:\n",
    "            dead_score += 2\n",
    "        elif teamdf['Dead 0-3'][i] == 2:\n",
    "            dead_score += 7\n",
    "        elif teamdf['Dead 0-3'][i] == 3:\n",
    "            dead_score += 15\n",
    "\n",
    "    return dead_score / len(teamdf.index)"
   ],
   "metadata": {
    "collapsed": false,
    "pycharm": {
     "name": "#%%\n"
    }
   }
  },
  {
   "cell_type": "code",
   "execution_count": 193,
   "outputs": [],
   "source": [
    "# Determine the average amount of defense played by a specified team:\n",
    "\n",
    "def defense_amount(team_num):\n",
    "\n",
    "    # Creates a new dataframe containing only data for team team_num\n",
    "    teamdf = df[df['Team Number'] == team_num]\n",
    "\n",
    "    defense_amount = 0\n",
    "\n",
    "    for i in teamdf.index:\n",
    "        defense_amount += teamdf['Def pl amt'][i]\n",
    "\n",
    "    return defense_amount / len(teamdf.index)"
   ],
   "metadata": {
    "collapsed": false,
    "pycharm": {
     "name": "#%%\n"
    }
   }
  },
  {
   "cell_type": "code",
   "execution_count": 194,
   "outputs": [],
   "source": [
    "# Calculate the average quality of defense played of a specified team:\n",
    "\n",
    "def defense_quality(team_num):\n",
    "\n",
    "    # Creates a new dataframe containing only data for team team_num\n",
    "    teamdf = df[df['Team Number'] == team_num]\n",
    "\n",
    "    total_quality = 0\n",
    "\n",
    "    for i in teamdf.index:\n",
    "        total_quality += teamdf['Def pl quality'][i]\n",
    "\n",
    "    return total_quality / len(teamdf.index)"
   ],
   "metadata": {
    "collapsed": false,
    "pycharm": {
     "name": "#%%\n"
    }
   }
  },
  {
   "cell_type": "code",
   "execution_count": 195,
   "outputs": [],
   "source": [
    "def view_dashboard(team_num):\n",
    "        output = 'Team ' + str(team_num) + ' Stats:\\n'\n",
    "\n",
    "        # Average Score\n",
    "        output += '\\n\\tAverage Score: ' + str(avg_score(team_num)) + ' points\\n'\n",
    "\n",
    "        # Average Score during Auto\n",
    "        output += '\\n\\tAverage Score During Auto: ' + str(sandstorm_score(team_num))+ ' points\\n'\n",
    "\n",
    "        # Average Score during Teleop\n",
    "        output += '\\n\\tAverage Score During Teleop: ' + str(teleop_score(team_num))+ ' points\\n'\n",
    "\n",
    "        # Defense Amount\n",
    "        output += '\\n\\tDefense Amount: '+ str(defense_amount(team_num)) + '\\n'\n",
    "\n",
    "        # Defense Quality\n",
    "        dq = defense_quality(team_num)\n",
    "        output += '\\n\\tDefense Quality: '\n",
    "\n",
    "        if dq >= 4:\n",
    "            output += 'Flawless\\n'\n",
    "        elif dq >= 3:\n",
    "            output += 'Excellent\\n'\n",
    "        elif dq >= 2:\n",
    "            output += 'Average\\n'\n",
    "        elif dq >= 1:\n",
    "            output += 'Bad\\n'\n",
    "        elif dq >= 0:\n",
    "            output += 'Non-existent\\n'\n",
    "\n",
    "        # Dead Amount\n",
    "        output += '\\n\\tAmount of time dead: '+ str(dead_score(team_num))+ '\\n'\n",
    "\n",
    "        print(output)"
   ],
   "metadata": {
    "collapsed": false,
    "pycharm": {
     "name": "#%%\n"
    }
   }
  },
  {
   "cell_type": "code",
   "execution_count": 198,
   "outputs": [],
   "source": [
    "def choose_members():\n",
    "\n",
    "    #initialize code, read in team number column only\n",
    "    team_df = df['Team Number']\n",
    "    team_df = team_df.drop_duplicates()\n",
    "    team_scores = []\n",
    "\n",
    "    team_df.dropna(inplace = True)\n",
    "\n",
    "    # get average score of all teams\n",
    "    for i in team_df.index:\n",
    "        avg = avg_score(team_df[i])\n",
    "        team_scores.append(avg)\n",
    "    \n",
    "    # data frame\n",
    "    d = {'Team Number': team_df, 'Average Scores': team_scores}\n",
    "    df2 = pd.DataFrame(data = d)\n",
    "    \n",
    "    # natural sort using average team scores\n",
    "    df2 = df2.sort_values(by=['Average Scores'])\n",
    "\n",
    "    print(df2)\n",
    "\n",
    "    "
   ],
   "metadata": {
    "collapsed": false,
    "pycharm": {
     "name": "#%%\n"
    }
   }
  },
  {
   "cell_type": "code",
   "execution_count": 199,
   "outputs": [
    {
     "output_type": "stream",
     "name": "stdout",
     "text": [
      "    Team Number  Average Scores\n45          771        8.625000\n16         2500        8.818182\n41         7885        9.100000\n18          250        9.666667\n52         7462       10.285714\n..          ...             ...\n43         3707       35.083333\n7          3604       35.090909\n6           245       35.444444\n56           88       36.888889\n28          225       37.000000\n\n[69 rows x 2 columns]\n"
     ]
    }
   ],
   "source": [
    "# UI\n",
    "while True:\n",
    "    choice = int(input(\"\"\"1 - View analytics dashboard for a specified team. \\n\n",
    "                       2 - Choose alliance members by viewing lists of best scorers, etc. \\n\n",
    "                       3 - Exit the program. \\n\n",
    "                       Enter either '1', '2', or '3' to select an option:\"\"\"))\n",
    "\n",
    "    if choice == 1:\n",
    "        team_input = int(input('Enter the team number of the team you wish to analyze:'))\n",
    "        while True:\n",
    "            team_df = df[df['Team Number'] == team_input]\n",
    "            if len(team_df.index) == 0:\n",
    "                team_input = int(input('The team number you have entered is not found in the database. Enter a valid team number:'))\n",
    "            else:\n",
    "                break\n",
    "        view_dashboard(team_input)\n",
    "        break\n",
    "    elif choice == 2:\n",
    "        choose_members()\n",
    "        break\n",
    "    elif choice == 3:\n",
    "        break\n",
    "    else:\n",
    "        print(\"Please enter either '1' or '2'!\")"
   ],
   "metadata": {
    "collapsed": false,
    "pycharm": {
     "name": "#%%\n"
    }
   }
  },
  {
   "cell_type": "code",
   "execution_count": null,
   "metadata": {},
   "outputs": [],
   "source": []
  }
 ]
}