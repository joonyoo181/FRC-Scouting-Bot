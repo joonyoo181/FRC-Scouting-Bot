{
 "metadata": {
  "language_info": {
   "codemirror_mode": {
    "name": "ipython",
    "version": 3
   },
   "file_extension": ".py",
   "mimetype": "text/x-python",
   "name": "python",
   "nbconvert_exporter": "python",
   "pygments_lexer": "ipython3",
   "version": "3.8.3-final"
  },
  "orig_nbformat": 2,
  "kernelspec": {
   "name": "python3",
   "language": "python",
   "display_name": "Python 3"
  }
 },
 "nbformat": 4,
 "nbformat_minor": 2,
 "cells": [
  {
   "cell_type": "code",
   "execution_count": null,
   "metadata": {},
   "outputs": [],
   "source": [
    "**Getting Started**\n",
    "\n",
    "If you simply want to run the program in your browser, you're at the right place! Make sure that you have a data file containing statistics and information about the game. The file we used as a placeholder for our program was graciously provided by Team 2791.\n",
    "\n",
    "Navigate to the side bar of Google Colaboratory as shown below:\n",
    "\n",
    "![image.png](data:image/png;base64,iVBORw0KGgoAAAANSUhEUgAAADIAAAEYCAYAAAAef6VVAAAFf0lEQVR4Ae2dsU/kXAzE71+lhZqWmm2hpaampoWWGrQdNTX1nmZ1XllRko0dz8WgiRS9l8TP8cwvS/Ykf/v9Ofzgbb/fn6r/c5r9wImEdIMmIiJCckCPFsnYdFoRSVtHWigiJGPTaUUkbR1poYiQjE2nFZG0daSFIkIyNp1WRNLWkRaKCMnYdFoRGbPu6+vrgH2LrYzI29vb4eLi4rhjju329vaw2+3Ce8aIMiHPz88nIZhjM2HRcVMh39/fBwgwESjm/f09tW8qJHPzyjVlj1ZlUZlcpUJeXl4Or6+vmTpWrykTAhH2ocYcmx1Hx4wqCRlzDe8Pe4eMXWeeKyPCLHJJbgkZuuRfiJhjwwvx4+MjvA9zLzkuI/JrvqLAffszizk2fGnM7EsIDGPKiCDx1l/jIQa7GgaGmLc4Ln20thBg95QQc6LLKCJdSFgdImJOdBlFpAsJq0NEzIkuo4h0IWF1iIg50WUUkS4krA4RMSe6jCLShYTVISLmRJdRRLqQsDpExJzoMopIFxJWh4iYE11GEelCwuoQEXOiyygiXUhYHTQiaONAE9rj4+OxyxQjjq29wwqoGilC0Hh2dXV16oSwjgiMOG+NaVUikKdciO+kQ/sGelTQ0oERxyaqWkypELRwWKG+bdY775tvKru2S4U8PDwchWCc25bGzeUYXisVcnl5eRRi3UHDm9mxdRJdX1/bqdVjqRB7rJZUFYldkq9UiBH5/PycvTeuQwjiq7ZSIfbsPz09zdaH6xByd3c3Gxe5WCrEnn0UOfU58f95xlRMRIDFlgpBUrzB7fkHITRn4s8sRiNWTQP3LReCpPbomKDhaGLxlj/3eTLHz40UIbgpKKBg35yJY3sJ3tzcHMlViaEJOecgvjxWitlMCIRWitlUSKWYzYWYGPxFw57dWgjJFu/XSYh3o8NcRDpQ8DWIiHejw1xEOlDwNYiId6PDXEQ6UPA1iIh3o8NcRDpQ8DWIiHejw1xEOlDwNYiId6PDXEQ6UPA1iIh3o8NcRDpQ8DWIiHejw1xEOlDwNYiId6PDXEQ6UPA1iIh3o8NcRDpQ8DWIiHdjao4m5blG5XPXp/KOnacRQZHWcGY9Wr4AnLPrc2L9mrk5RYgXMVfk0rg5AXatXEi0uGi8FT4cS4Vki8qu82LKhKwtZu16CfFYbZ51NbvO7ouxjIgljRYVjbf7DMdyIbjB0uKWxg2LHjumCBmK+bEvRHMMjmOf2s5dn1o3dp5GZOxmzHMSwnQ3k1tEMq4x14gI091MbhHJuMZcIyJMdzO5RSTjGnONiDDdzeQWkYxrzDUiwnQ3k1tEMq4x14gI091MbhHJuMZcIyJMdzO5RSTjGnONiDDdzeQWkYxrzDUiwnQ3k1tEMq4x14gI091MbhHJuMZcIyJDd9Fvgh/62u12o3vlbzIO743jMiL+t3yte3Q4zvWljBUXOVcmZFj01PEUMTt/f3+f+u3G/y5kSqA/n/n53HIh+Cys2U1Q5LEq/YxkCxgWnM1TTmRYWPRYQvb7k2er/v/sWSdPd/83yebRo1XlZFUeEalysipPORH89vWaffMPu/2ashWyZsQX0OhWRsS+xvvfwM7M8U+BsRb0c8LKhJy7Efu6hLAdjuYXkahj7HgRYTsczS8iUcfY8SLCdjiaX0SijrHjRYTtcDS/iEQdY8eLCNvhaH4RiTrGjhcRtsPR/CISdYwdLyJsh6P5RSTqGDteRNgOR/OLSNQxdryIsB2O5heRqGPseBFhOxzNLyJRx9jxIsJ2OJpfRKKOseNFhO1wNL+IRB1jx4sI2+FofhGJOsaOFxG2w9H8IhJ1jB0vImyHo/lFJOoYO15E2A5H84tI1DF2vIiwHY7mF5GoY+z4X0nkLzdpvHZhLnOGAAAAAElFTkSuQmCC)\n",
    "\n",
    "Select the folder icon and right click anywhere on the section. Add a new folder called \"data\". Upload your file into the folder (NOTE: the program was written to only handle csv files. You can convert to csv files using this [website](https://cloudconvert.com/xlsx-to-csv).)\n",
    "\n",
    "The last step is to change a few lines of code. In the second \"cell\", change \n",
    "```\n",
    "data = pd.read_csv('data/2791_2019dar.csv')\n",
    "```\n",
    "to:\n",
    "```\n",
    "data = pd.read_csv('data/{name of your file}.csv')\n",
    "```\n",
    "\n",
    "That's it! You're all set up and ready to use the aptitude calculator.\n",
    "\n",
    "If you would like to play around with the code, feel free to make a copy of this notebook and make whatever changes you see fit. If you notice any mistakes or inaccuracies, please do not hesitate to create a new issue or pull request on our [Github repository](https://github.com/kevinjl321/frc-scouting)."
   ]
  },
  {
   "cell_type": "code",
   "execution_count": 4,
   "metadata": {},
   "outputs": [],
   "source": [
    "import pandas as pd"
   ]
  },
  {
   "cell_type": "code",
   "execution_count": 5,
   "metadata": {},
   "outputs": [],
   "source": [
    "data = pd.read_csv('data/2791_2019dar.csv')"
   ]
  },
  {
   "cell_type": "code",
   "execution_count": 6,
   "metadata": {
    "pycharm": {
     "name": "#%%\n"
    }
   },
   "outputs": [],
   "source": [
    "teaminput = int(input('Enter a team number'))\n",
    "teamdata = data[data['Team Number'] == teaminput]"
   ]
  },
  {
   "cell_type": "code",
   "execution_count": 7,
   "outputs": [
    {
     "output_type": "execute_result",
     "data": {
      "text/plain": [
       "Empty DataFrame\n",
       "Columns: [Team Number, Match Number, Starting Position, Hab Line 1/0, Auto # H Ship Side, Auto # H Ship Front, Auto # C Ship Side, Auto C Rkt Lvl, Auto H Rkt Lvl, Auto H Rkt Lvl [2], Auto # C Dropped, Auto # H Dropped, Tele H Ship, Tele C Ship, Tele Rocket H L1, Tele Rocket H L2, Tele Rocket H L3, Tele Rocket C L1, Tele Rocket C L2, Tele Rocket C L3, Tele Dropped C, Tele Dropped H, Def pl amt, Def pl quality, Def rec amt, Who Played D, Fouls? 0/1, Dead 0-3, Highest success, Highest attempt, Was assisted? 1/0]\n",
       "Index: []\n",
       "\n",
       "[0 rows x 31 columns]"
      ],
      "text/html": "<div>\n<style scoped>\n    .dataframe tbody tr th:only-of-type {\n        vertical-align: middle;\n    }\n\n    .dataframe tbody tr th {\n        vertical-align: top;\n    }\n\n    .dataframe thead th {\n        text-align: right;\n    }\n</style>\n<table border=\"1\" class=\"dataframe\">\n  <thead>\n    <tr style=\"text-align: right;\">\n      <th></th>\n      <th>Team Number</th>\n      <th>Match Number</th>\n      <th>Starting Position</th>\n      <th>Hab Line 1/0</th>\n      <th>Auto # H Ship Side</th>\n      <th>Auto # H Ship Front</th>\n      <th>Auto # C Ship Side</th>\n      <th>Auto C Rkt Lvl</th>\n      <th>Auto H Rkt Lvl</th>\n      <th>Auto H Rkt Lvl [2]</th>\n      <th>...</th>\n      <th>Tele Dropped H</th>\n      <th>Def pl amt</th>\n      <th>Def pl quality</th>\n      <th>Def rec amt</th>\n      <th>Who Played D</th>\n      <th>Fouls? 0/1</th>\n      <th>Dead 0-3</th>\n      <th>Highest success</th>\n      <th>Highest attempt</th>\n      <th>Was assisted? 1/0</th>\n    </tr>\n  </thead>\n  <tbody>\n  </tbody>\n</table>\n<p>0 rows × 31 columns</p>\n</div>"
     },
     "metadata": {},
     "execution_count": 7
    }
   ],
   "source": [
    "teamdata"
   ],
   "metadata": {
    "collapsed": false,
    "pycharm": {
     "name": "#%%\n"
    }
   }
  },
  {
   "cell_type": "code",
   "execution_count": null,
   "metadata": {},
   "outputs": [],
   "source": []
  }
 ]
}