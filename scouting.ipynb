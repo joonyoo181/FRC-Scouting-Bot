{
 "metadata": {
  "language_info": {
   "codemirror_mode": {
    "name": "ipython",
    "version": 3
   },
   "file_extension": ".py",
   "mimetype": "text/x-python",
   "name": "python",
   "nbconvert_exporter": "python",
   "pygments_lexer": "ipython3",
   "version": "3.8.3-final"
  },
  "orig_nbformat": 2,
  "kernelspec": {
   "name": "python3",
   "language": "python",
   "display_name": "Python 3"
  }
 },
 "nbformat": 4,
 "nbformat_minor": 2,
 "cells": [
  {
   "cell_type": "code",
   "execution_count": 28,
   "metadata": {},
   "outputs": [],
   "source": [
    "import pandas as pd"
   ]
  },
  {
   "cell_type": "code",
   "execution_count": 29,
   "metadata": {},
   "outputs": [],
   "source": [
    "df = pd.read_csv('data/2791_2019dar.csv')"
   ]
  },
  {
   "cell_type": "code",
   "execution_count": 30,
   "outputs": [
    {
     "name": "stdout",
     "output_type": "stream",
     "text": [
      "Available Teams:\n",
      "0        51\n",
      "1       868\n",
      "2      3044\n",
      "3      4381\n",
      "4      3381\n",
      "5      7651\n",
      "6       245\n",
      "7      3604\n",
      "8      1792\n",
      "9      5951\n",
      "10     1690\n",
      "11     6401\n",
      "12     5501\n",
      "13      503\n",
      "14     3618\n",
      "15     3555\n",
      "16     2500\n",
      "17      125\n",
      "18      250\n",
      "19     3624\n",
      "20     1923\n",
      "21     6806\n",
      "22     2337\n",
      "23     1317\n",
      "24      836\n",
      "25     3926\n",
      "26      236\n",
      "27      103\n",
      "28      225\n",
      "29     1918\n",
      "30     2791\n",
      "31     4253\n",
      "32     2502\n",
      "33     5348\n",
      "34     7480\n",
      "35     5943\n",
      "36     4481\n",
      "37     5567\n",
      "38     5811\n",
      "39     2771\n",
      "40      217\n",
      "41     7885\n",
      "42     1058\n",
      "43     3707\n",
      "44      365\n",
      "45      771\n",
      "46     2830\n",
      "47      190\n",
      "48     3146\n",
      "49     1218\n",
      "50     3542\n",
      "51      449\n",
      "52     7462\n",
      "53     7719\n",
      "54     5084\n",
      "55      191\n",
      "56       88\n",
      "57     1676\n",
      "58      175\n",
      "59     3667\n",
      "60      772\n",
      "61     4143\n",
      "62     1024\n",
      "63     7673\n",
      "64     2265\n",
      "65      353\n",
      "66       16\n",
      "70     1781\n",
      "197       0\n",
      "Name: Team Number, dtype: int64\n"
     ]
    }
   ],
   "source": [
    "# Display a list of available teams\n",
    "team_nums = df['Team Number']\n",
    "team_nums = team_nums.drop_duplicates()\n",
    "\n",
    "pd.set_option('display.max_rows', None)\n",
    "print('Available Teams:')\n",
    "print(team_nums)\n",
    "pd.reset_option('display.max_rows')"
   ],
   "metadata": {
    "collapsed": false,
    "pycharm": {
     "name": "#%%\n"
    }
   }
  },
  {
   "cell_type": "code",
   "execution_count": 31,
   "metadata": {},
   "outputs": [],
   "source": [
    "# Calculate the average score of a specified team\n",
    "# Parameter team_num: the team number of the team to find the avg score of\n",
    "\n",
    "def avg_score(team_num):\n",
    "\n",
    "    # Creates a new dataframe containing only data for team team_num\n",
    "    teamdf = df[df['Team Number'] == team_num]\n",
    "\n",
    "    total_score = 0\n",
    "\n",
    "    for i in teamdf.index:\n",
    "\n",
    "        # Hab Line Cross\n",
    "        if teamdf['Hab Line 1/0'][i] == 1:\n",
    "            startpos = teamdf['Starting Position'][i]\n",
    "            if startpos == 'L1' or startpos == 'M' or startpos == 'R1':\n",
    "                total_score += 3\n",
    "            elif startpos == 'L2' or startpos == 'R2':\n",
    "                total_score += 6\n",
    "\n",
    "        # Hatch Panels\n",
    "        total_score += 2 * (teamdf['Auto # H Ship Side'][i] + teamdf['Auto # H Ship Front'][i] +\n",
    "                        teamdf['Tele H Ship'][i] + teamdf['Tele Rocket H L1'][i] + teamdf['Tele Rocket H L2'][i] +\n",
    "                        teamdf['Tele Rocket H L3'][i])\n",
    "\n",
    "        if teamdf['Auto H Rkt Lvl'][i] > 0:\n",
    "            total_score += 2\n",
    "\n",
    "        if teamdf['Auto H Rkt Lvl [2]'][i] > 0:\n",
    "            total_score += 2\n",
    "\n",
    "        # Cargo\n",
    "        total_score += 3 * (teamdf['Auto # C Ship Side'][i] + teamdf['Tele C Ship'][i] + teamdf['Tele Rocket C L1'][i] +\n",
    "                        teamdf['Tele Rocket C L2'][i] + teamdf['Tele Rocket C L3'][i])\n",
    "\n",
    "        if teamdf['Auto C Rkt Lvl'][i] > 0:\n",
    "            total_score += 3\n",
    "\n",
    "        # Fouls\n",
    "        if teamdf['Fouls? 0/1'][i] == 1:\n",
    "            total_score -= 7\n",
    "\n",
    "        # Hab Climb Bonus\n",
    "        level = teamdf['Highest success'][i]\n",
    "        if level == 1:\n",
    "            total_score += 3\n",
    "        elif level == 2:\n",
    "            total_score += 6\n",
    "        elif level == 3:\n",
    "            total_score += 12\n",
    "\n",
    "    return total_score / len(teamdf.index)"
   ]
  },
  {
   "cell_type": "code",
   "execution_count": 32,
   "outputs": [],
   "source": [
    "# Calculate a team's average score achieved during sandstorm\n",
    "# Parameter team_num: the team number of the team to find the avg sandstorm score of\n",
    "\n",
    "def sandstorm_score(team_num):\n",
    "\n",
    "    # Creates a new dataframe containing only data for team team_num\n",
    "    teamdf = df[df['Team Number'] == team_num]\n",
    "\n",
    "    total_score = 0\n",
    "\n",
    "    for i in teamdf.index:\n",
    "\n",
    "        # Hab Line Cross\n",
    "        if teamdf['Hab Line 1/0'][i] == 1:\n",
    "            startpos = teamdf['Starting Position'][i]\n",
    "            if startpos == 'L1' or startpos == 'M' or startpos == 'R1':\n",
    "                total_score += 3\n",
    "            elif startpos == 'L2' or startpos == 'R2':\n",
    "                total_score += 6\n",
    "\n",
    "        # Hatch Panels\n",
    "        total_score += 2 * (teamdf['Auto # H Ship Side'][i] + teamdf['Auto # H Ship Front'][i])\n",
    "\n",
    "        if teamdf['Auto H Rkt Lvl'][i] > 0:\n",
    "            total_score += 2\n",
    "\n",
    "        if teamdf['Auto H Rkt Lvl [2]'][i] > 0:\n",
    "            total_score += 2\n",
    "\n",
    "        # Cargo\n",
    "        total_score += 3 * (teamdf['Auto # C Ship Side'][i])\n",
    "\n",
    "        if teamdf['Auto C Rkt Lvl'][i] > 0:\n",
    "            total_score += 3\n",
    "\n",
    "    return total_score / len(teamdf.index)"
   ],
   "metadata": {
    "collapsed": false,
    "pycharm": {
     "name": "#%%\n"
    }
   }
  },
  {
   "cell_type": "code",
   "execution_count": 33,
   "outputs": [],
   "source": [
    "# Calculate a team's average score achieved during teleop\n",
    "# Parameter team_num: team number\n",
    "\n",
    "def teleop_score(team_num):\n",
    "\n",
    "    # Creates a new dataframe containing only data for team team_num\n",
    "    teamdf = df[df['Team Number'] == team_num]\n",
    "\n",
    "    total_score = 0\n",
    "\n",
    "    for i in teamdf.index:\n",
    "\n",
    "        # Hatch Panels\n",
    "        total_score += 2 * (teamdf['Tele H Ship'][i] + teamdf['Tele Rocket H L1'][i] + teamdf['Tele Rocket H L2'][i] +\n",
    "                            teamdf['Tele Rocket H L3'][i])\n",
    "\n",
    "        # Cargo\n",
    "        total_score += 3 * (teamdf['Tele C Ship'][i] + teamdf['Tele Rocket C L1'][i] + teamdf['Tele Rocket C L2'][i] +\n",
    "                            teamdf['Tele Rocket C L3'][i])\n",
    "\n",
    "        # Fouls\n",
    "        if teamdf['Fouls? 0/1'][i] == 1:\n",
    "            total_score -= 7\n",
    "\n",
    "    return total_score / len(teamdf.index)"
   ],
   "metadata": {
    "collapsed": false,
    "pycharm": {
     "name": "#%%\n"
    }
   }
  },
  {
   "cell_type": "code",
   "execution_count": 34,
   "outputs": [],
   "source": [
    "# Calculate a specified team's defense capability\n",
    "# Parameter team_num: the team number of the team to find the defense capability of\n",
    "# Remove this function? See 2 functions below -->\n",
    "def defense_score(team_num):\n",
    "\n",
    "    # Creates a new dataframe containing only data for team team_num\n",
    "    teamdf = df[df['Team Number'] == team_num]\n",
    "\n",
    "    defense_score = 0\n",
    "\n",
    "    for i in teamdf.index:\n",
    "        defense_score += teamdf['Def pl amt'][i] + teamdf['Def pl quality'][i]\n",
    "\n",
    "    return defense_score / len(teamdf.index)"
   ],
   "metadata": {
    "collapsed": false,
    "pycharm": {
     "name": "#%%\n"
    }
   }
  },
  {
   "cell_type": "code",
   "execution_count": 35,
   "outputs": [],
   "source": [
    "# Determine the average amount of defense played by a specified team:\n",
    "\n",
    "def defense_amount(team_num):\n",
    "\n",
    "    # Creates a new dataframe containing only data for team team_num\n",
    "    teamdf = df[df['Team Number'] == team_num]\n",
    "\n",
    "    defense_amount = 0\n",
    "\n",
    "    for i in teamdf.index:\n",
    "        defense_amount += teamdf['Def pl amt'][i]\n",
    "\n",
    "    return defense_amount / len(teamdf.index)"
   ],
   "metadata": {
    "collapsed": false,
    "pycharm": {
     "name": "#%%\n"
    }
   }
  },
  {
   "cell_type": "code",
   "execution_count": 36,
   "outputs": [],
   "source": [
    "# Calculate the average quality of defense played of a specified team:\n",
    "\n",
    "def defense_quality(team_num):\n",
    "\n",
    "    # Creates a new dataframe containing only data for team team_num\n",
    "    teamdf = df[df['Team Number'] == team_num]\n",
    "\n",
    "    total_quality = 0\n",
    "\n",
    "    for i in teamdf.index:\n",
    "        total_quality += teamdf['Def pl quality'][i]\n",
    "\n",
    "    return total_quality / len(teamdf.index)"
   ],
   "metadata": {
    "collapsed": false,
    "pycharm": {
     "name": "#%%\n"
    }
   }
  },
  {
   "cell_type": "code",
   "execution_count": 37,
   "outputs": [],
   "source": [
    "# Determine how often a specified team's bot dies\n",
    "\n",
    "def dead_score(team_num):\n",
    "\n",
    "    # Creates a new dataframe containing only data for team team_num\n",
    "    teamdf = df[df['Team Number'] == team_num]\n",
    "\n",
    "    dead_score = 0\n",
    "\n",
    "    for i in teamdf.index:\n",
    "        if teamdf['Dead 0-3'][i] == 1:\n",
    "            dead_score += 2\n",
    "        elif teamdf['Dead 0-3'][i] == 2:\n",
    "            dead_score += 7\n",
    "        elif teamdf['Dead 0-3'][i] == 3:\n",
    "            dead_score += 15\n",
    "\n",
    "    return dead_score / len(teamdf.index)"
   ],
   "metadata": {
    "collapsed": false,
    "pycharm": {
     "name": "#%%\n"
    }
   }
  },
  {
   "cell_type": "code",
   "execution_count": 38,
   "outputs": [],
   "source": [
    "def view_dashboard(team_num):\n",
    "        output = 'Team ' + str(team_num) + ' Stats:\\n'\n",
    "\n",
    "        # Average Score\n",
    "        output += '\\n\\tAverage Score: ' + str(avg_score(team_num)) + ' points\\n'\n",
    "\n",
    "        # Average Score during Auto\n",
    "        output += '\\n\\tAverage Score During Auto: ' + str(sandstorm_score(team_num))+ ' points\\n'\n",
    "\n",
    "        # Average Score during Teleop\n",
    "        output += '\\n\\tAverage Score During Teleop: ' + str(teleop_score(team_num))+ ' points\\n'\n",
    "\n",
    "        # Defense Amount\n",
    "        output += '\\n\\tDefense Amount: '+ str(defense_amount(team_num)) + '\\n'\n",
    "\n",
    "        # Defense Quality\n",
    "        dq = defense_quality(team_num)\n",
    "        output += '\\n\\tDefense Quality: '\n",
    "\n",
    "        if dq >= 4:\n",
    "            output += 'Flawless\\n'\n",
    "        elif dq >= 3:\n",
    "            output += 'Excellent\\n'\n",
    "        elif dq >= 2:\n",
    "            output += 'Average\\n'\n",
    "        elif dq >= 1:\n",
    "            output += 'Bad\\n'\n",
    "        elif dq >= 0:\n",
    "            output += 'Non-existent\\n'\n",
    "\n",
    "        # Dead Amount\n",
    "        output += '\\n\\tAmount of time dead: '+ str(dead_score(team_num))+ '\\n'\n",
    "\n",
    "        print(output)"
   ],
   "metadata": {
    "collapsed": false,
    "pycharm": {
     "name": "#%%\n"
    }
   }
  },
  {
   "cell_type": "code",
   "execution_count": 39,
   "outputs": [],
   "source": [
    "def choose_members():\n",
    "\n",
    "    # Sort teams by average score\n",
    "    # team_nums is a global variable containing a Series of team names\n",
    "\n",
    "    # Convert Series to DataFrame\n",
    "    df = pd.DataFrame(team_nums)\n",
    "    print(df)\n",
    "    \n",
    "    # Need to add a column to the Dataframe containing avg scores, and sort it"
   ],
   "metadata": {
    "collapsed": false,
    "pycharm": {
     "name": "#%%\n"
    }
   }
  },
  {
   "cell_type": "code",
   "execution_count": 40,
   "outputs": [
    {
     "name": "stdout",
     "output_type": "stream",
     "text": [
      "Team 3146 Stats:\n",
      "\n",
      "\tAverage Score: 26.9 points\n",
      "\n",
      "\tAverage Score During Auto: 6.1 points\n",
      "\n",
      "\tAverage Score During Teleop: 13.3 points\n",
      "\n",
      "\tDefense Amount: 0.3\n",
      "\n",
      "\tDefense Quality: Non-existent\n",
      "\n",
      "\tAmount of time dead: 0.0\n",
      "\n"
     ]
    }
   ],
   "source": [
    "# UI\n",
    "while True:\n",
    "    choice = int(input(\"\"\"1 - View analytics dashboard for a specified team. \\n\n",
    "                       2 - Choose alliance members by viewing lists of best scorers, etc. \\n\n",
    "                       3 - Exit the program. \\n\n",
    "                       Enter either '1', '2', or '3' to select an option:\"\"\"))\n",
    "\n",
    "    if choice == 1:\n",
    "        team_input = int(input('Enter the team number of the team you wish to analyze:'))\n",
    "        while True:\n",
    "            team_df = df[df['Team Number'] == team_input]\n",
    "            if len(team_df.index) == 0:\n",
    "                team_input = int(input('The team number you have entered is not found in the database. Enter a valid team number:'))\n",
    "            else:\n",
    "                break\n",
    "        view_dashboard(team_input)\n",
    "        break\n",
    "    elif choice == 2:\n",
    "        choose_members()\n",
    "        break\n",
    "    elif choice == 3:\n",
    "        break\n",
    "    else:\n",
    "        print(\"Please enter either '1' or '2'!\")"
   ],
   "metadata": {
    "collapsed": false,
    "pycharm": {
     "name": "#%%\n"
    }
   }
  },
  {
   "cell_type": "code",
   "execution_count": 41,
   "outputs": [
    {
     "data": {
      "text/plain": "'\\n%gui tk\\n\\nimport tkinter as tk\\nwin = tk.Toplevel()\\nwin.wm_title(\"Window\")\\n\\nlabel = tk.Label(win, text=\"User input\")\\nlabel.grid(row=0, column=0)\\n\\nbutton = tk.Button(win, text=\"Done\", command=win.destroy)\\nbutton.grid(row=1, column=0)\\n'"
     },
     "execution_count": 41,
     "metadata": {},
     "output_type": "execute_result"
    }
   ],
   "source": [
    "\"\"\"\n",
    "%gui tk\n",
    "\n",
    "import tkinter as tk\n",
    "win = tk.Toplevel()\n",
    "win.wm_title(\"Window\")\n",
    "\n",
    "label = tk.Label(win, text=\"User input\")\n",
    "label.grid(row=0, column=0)\n",
    "\n",
    "button = tk.Button(win, text=\"Done\", command=win.destroy)\n",
    "button.grid(row=1, column=0)\n",
    "\"\"\""
   ],
   "metadata": {
    "collapsed": false,
    "pycharm": {
     "name": "#%%\n"
    }
   }
  },
  {
   "cell_type": "code",
   "execution_count": 41,
   "outputs": [],
   "source": [],
   "metadata": {
    "collapsed": false,
    "pycharm": {
     "name": "#%%\n"
    }
   }
  },
  {
   "cell_type": "code",
   "execution_count": 16,
   "metadata": {},
   "outputs": [],
   "source": []
  },
  {
   "cell_type": "code",
   "execution_count": null,
   "metadata": {},
   "outputs": [],
   "source": []
  }
 ]
}