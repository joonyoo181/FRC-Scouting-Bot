{
 "metadata": {
  "language_info": {
   "codemirror_mode": {
    "name": "ipython",
    "version": 3
   },
   "file_extension": ".py",
   "mimetype": "text/x-python",
   "name": "python",
   "nbconvert_exporter": "python",
   "pygments_lexer": "ipython3",
   "version": "3.8.3-final"
  },
  "orig_nbformat": 2,
  "kernelspec": {
   "name": "python3",
   "display_name": "Python 3"
  }
 },
 "nbformat": 4,
 "nbformat_minor": 2,
 "cells": [
  {
   "cell_type": "code",
   "execution_count": 10,
   "metadata": {},
   "outputs": [],
   "source": [
    " import pandas as pd\n",
    " from functions.scoring import *"
   ]
  },
  {
   "cell_type": "code",
   "execution_count": 11,
   "metadata": {},
   "outputs": [
    {
     "output_type": "stream",
     "name": "stdout",
     "text": [
      "COMPLETE: Data copied\n"
     ]
    },
    {
     "output_type": "execute_result",
     "data": {
      "text/plain": [
       "  Team Number Match Number Starting Position on Hab platform  \\\n",
       "0         123         1234                           Level 1   \n",
       "1        1324          134                           Level 2   \n",
       "2        1123           34                           Level 1   \n",
       "\n",
       "  Did the robot cross the Hab Line during Sandstorm?  \\\n",
       "0                                                 No   \n",
       "1                                                Yes   \n",
       "2                                                 No   \n",
       "\n",
       "  Sandstorm Period [# of Hatch Panels] Sandstorm Period [# of Cargo Balls]  \\\n",
       "0                                    2                                   2   \n",
       "1                                    1                                   1   \n",
       "2                                    1                                   1   \n",
       "\n",
       "  Teleop Period [# of Hatch Panels] Teleop Period [# of Cargo balls]  \\\n",
       "0                                 1                                2   \n",
       "1                                 4                                3   \n",
       "2                                 1                                1   \n",
       "\n",
       "  Amount of defense played Quality of defense played (higher = better)  \\\n",
       "0                  Briefly                                           1   \n",
       "1                     None                                           2   \n",
       "2                     None                                           1   \n",
       "\n",
       "  Was a foul/tech foul called on this team?  \\\n",
       "0                                        No   \n",
       "1                                        No   \n",
       "2                                        No   \n",
       "\n",
       "  Amount of time spent dead during the match  \\\n",
       "0                                       None   \n",
       "1                                       None   \n",
       "2                              Some of match   \n",
       "\n",
       "  Hab Climb bonus: Hab level reached at the end of the match  \n",
       "0                                            Level 2          \n",
       "1                                            Level 1          \n",
       "2                                            Level 1          "
      ],
      "text/html": "<div>\n<style scoped>\n    .dataframe tbody tr th:only-of-type {\n        vertical-align: middle;\n    }\n\n    .dataframe tbody tr th {\n        vertical-align: top;\n    }\n\n    .dataframe thead th {\n        text-align: right;\n    }\n</style>\n<table border=\"1\" class=\"dataframe\">\n  <thead>\n    <tr style=\"text-align: right;\">\n      <th></th>\n      <th>Team Number</th>\n      <th>Match Number</th>\n      <th>Starting Position on Hab platform</th>\n      <th>Did the robot cross the Hab Line during Sandstorm?</th>\n      <th>Sandstorm Period [# of Hatch Panels]</th>\n      <th>Sandstorm Period [# of Cargo Balls]</th>\n      <th>Teleop Period [# of Hatch Panels]</th>\n      <th>Teleop Period [# of Cargo balls]</th>\n      <th>Amount of defense played</th>\n      <th>Quality of defense played (higher = better)</th>\n      <th>Was a foul/tech foul called on this team?</th>\n      <th>Amount of time spent dead during the match</th>\n      <th>Hab Climb bonus: Hab level reached at the end of the match</th>\n    </tr>\n  </thead>\n  <tbody>\n    <tr>\n      <th>0</th>\n      <td>123</td>\n      <td>1234</td>\n      <td>Level 1</td>\n      <td>No</td>\n      <td>2</td>\n      <td>2</td>\n      <td>1</td>\n      <td>2</td>\n      <td>Briefly</td>\n      <td>1</td>\n      <td>No</td>\n      <td>None</td>\n      <td>Level 2</td>\n    </tr>\n    <tr>\n      <th>1</th>\n      <td>1324</td>\n      <td>134</td>\n      <td>Level 2</td>\n      <td>Yes</td>\n      <td>1</td>\n      <td>1</td>\n      <td>4</td>\n      <td>3</td>\n      <td>None</td>\n      <td>2</td>\n      <td>No</td>\n      <td>None</td>\n      <td>Level 1</td>\n    </tr>\n    <tr>\n      <th>2</th>\n      <td>1123</td>\n      <td>34</td>\n      <td>Level 1</td>\n      <td>No</td>\n      <td>1</td>\n      <td>1</td>\n      <td>1</td>\n      <td>1</td>\n      <td>None</td>\n      <td>1</td>\n      <td>No</td>\n      <td>Some of match</td>\n      <td>Level 1</td>\n    </tr>\n  </tbody>\n</table>\n</div>"
     },
     "metadata": {},
     "execution_count": 11
    }
   ],
   "source": [
    "SCOPES = ['https://www.googleapis.com/auth/spreadsheets']\n",
    "SPREADSHEET_ID = '12PwDvuHqI2fhktM3IN_7hZs7lZmwWKz2vihlS1Evt9A'\n",
    "RANGE_NAME = 'B1:AL668'\n",
    "\n",
    "pd.set_option('display.max_rows', None)\n",
    "data = pull_sheet_data(SCOPES,SPREADSHEET_ID,RANGE_NAME)\n",
    "df = pd.DataFrame(data[1:], columns=data[0])\n",
    "df"
   ]
  },
  {
   "cell_type": "code",
   "execution_count": 7,
   "metadata": {},
   "outputs": [
    {
     "output_type": "stream",
     "name": "stdout",
     "text": [
      "Available Teams:\n0     123\n1    1324\nName: Team Number, dtype: object\n"
     ]
    }
   ],
   "source": [
    "# Display a list of available teams\n",
    "team_nums = df['Team Number']\n",
    "team_nums = team_nums.drop_duplicates()\n",
    "\n",
    "pd.set_option('display.max_rows', None)\n",
    "print('Available Teams:')\n",
    "print(team_nums)\n",
    "pd.reset_option('display.max_rows')"
   ]
  },
  {
   "cell_type": "code",
   "execution_count": 8,
   "metadata": {},
   "outputs": [
    {
     "output_type": "error",
     "ename": "NameError",
     "evalue": "name 'df' is not defined",
     "traceback": [
      "\u001b[1;31m---------------------------------------------------------------------------\u001b[0m",
      "\u001b[1;31mNameError\u001b[0m                                 Traceback (most recent call last)",
      "\u001b[1;32m<ipython-input-8-34dd29c990fa>\u001b[0m in \u001b[0;36m<module>\u001b[1;34m\u001b[0m\n\u001b[0;32m     17\u001b[0m         \u001b[1;32mbreak\u001b[0m\u001b[1;33m\u001b[0m\u001b[1;33m\u001b[0m\u001b[0m\n\u001b[0;32m     18\u001b[0m     \u001b[1;32melif\u001b[0m \u001b[0mchoice\u001b[0m \u001b[1;33m==\u001b[0m \u001b[1;36m2\u001b[0m\u001b[1;33m:\u001b[0m\u001b[1;33m\u001b[0m\u001b[1;33m\u001b[0m\u001b[0m\n\u001b[1;32m---> 19\u001b[1;33m         \u001b[0mchoose_members\u001b[0m\u001b[1;33m(\u001b[0m\u001b[1;33m)\u001b[0m\u001b[1;33m\u001b[0m\u001b[1;33m\u001b[0m\u001b[0m\n\u001b[0m\u001b[0;32m     20\u001b[0m         \u001b[1;32mbreak\u001b[0m\u001b[1;33m\u001b[0m\u001b[1;33m\u001b[0m\u001b[0m\n\u001b[0;32m     21\u001b[0m     \u001b[1;32melif\u001b[0m \u001b[0mchoice\u001b[0m \u001b[1;33m==\u001b[0m \u001b[1;36m3\u001b[0m\u001b[1;33m:\u001b[0m\u001b[1;33m\u001b[0m\u001b[1;33m\u001b[0m\u001b[0m\n",
      "\u001b[1;32mc:\\Users\\Kevin Lan\\Documents\\vscode_projects\\frc-scouting\\scores.py\u001b[0m in \u001b[0;36mchoose_members\u001b[1;34m()\u001b[0m\n\u001b[0;32m    216\u001b[0m \u001b[1;33m\u001b[0m\u001b[0m\n\u001b[0;32m    217\u001b[0m     \u001b[1;31m#initialize code, read in team number column only\u001b[0m\u001b[1;33m\u001b[0m\u001b[1;33m\u001b[0m\u001b[1;33m\u001b[0m\u001b[0m\n\u001b[1;32m--> 218\u001b[1;33m     \u001b[0mteam_df\u001b[0m \u001b[1;33m=\u001b[0m \u001b[0mdf\u001b[0m\u001b[1;33m[\u001b[0m\u001b[1;34m'Team Number'\u001b[0m\u001b[1;33m]\u001b[0m\u001b[1;33m\u001b[0m\u001b[1;33m\u001b[0m\u001b[0m\n\u001b[0m\u001b[0;32m    219\u001b[0m     \u001b[0mteam_df\u001b[0m \u001b[1;33m=\u001b[0m \u001b[0mteam_df\u001b[0m\u001b[1;33m.\u001b[0m\u001b[0mdrop_duplicates\u001b[0m\u001b[1;33m(\u001b[0m\u001b[1;33m)\u001b[0m\u001b[1;33m\u001b[0m\u001b[1;33m\u001b[0m\u001b[0m\n\u001b[0;32m    220\u001b[0m     \u001b[0mpd\u001b[0m\u001b[1;33m.\u001b[0m\u001b[0mset_option\u001b[0m\u001b[1;33m(\u001b[0m\u001b[1;34m'display.max_rows'\u001b[0m\u001b[1;33m,\u001b[0m \u001b[1;32mNone\u001b[0m\u001b[1;33m)\u001b[0m\u001b[1;33m\u001b[0m\u001b[1;33m\u001b[0m\u001b[0m\n",
      "\u001b[1;31mNameError\u001b[0m: name 'df' is not defined"
     ]
    }
   ],
   "source": [
    "# UI\n",
    "while True:\n",
    "    choice = int(input(\"\"\"1 - View analytics dashboard for a specified team. \\n\n",
    "                       2 - Choose alliance members by viewing lists of best scorers, etc. \\n\n",
    "                       3 - Exit the program. \\n\n",
    "                       Enter either '1', '2', or '3' to select an option:\"\"\"))\n",
    "\n",
    "    if choice == 1:\n",
    "        team_input = int(input('Enter the team number of the team you wish to analyze:'))\n",
    "        while True:\n",
    "            team_df = df[df['Team Number'] == team_input]\n",
    "            if len(team_df.index) == 0:\n",
    "                team_input = int(input('The team number you have entered is not found in the database. Enter a valid team number:'))\n",
    "            else:\n",
    "                break\n",
    "        view_dashboard(team_input)\n",
    "        break\n",
    "    elif choice == 2:\n",
    "        choose_members()\n",
    "        break\n",
    "    elif choice == 3:\n",
    "        break\n",
    "    else:\n",
    "        print(\"Please enter either '1' or '2'!\")"
   ]
  }
 ]
}