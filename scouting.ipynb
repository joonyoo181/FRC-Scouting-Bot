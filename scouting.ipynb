{
 "metadata": {
  "language_info": {
   "codemirror_mode": {
    "name": "ipython",
    "version": 3
   },
   "file_extension": ".py",
   "mimetype": "text/x-python",
   "name": "python",
   "nbconvert_exporter": "python",
   "pygments_lexer": "ipython3",
   "version": "3.8.3-final"
  },
  "orig_nbformat": 2,
  "kernelspec": {
   "name": "python3",
   "language": "python",
   "display_name": "Python 3"
  }
 },
 "nbformat": 4,
 "nbformat_minor": 2,
 "cells": [
  {
   "cell_type": "code",
   "execution_count": 105,
   "metadata": {},
   "outputs": [],
   "source": [
    "import pandas as pd"
   ]
  },
  {
   "cell_type": "code",
   "execution_count": 106,
   "metadata": {},
   "outputs": [],
   "source": [
    "df = pd.read_csv('data/2791_2019dar.csv')"
   ]
  },
  {
   "cell_type": "code",
   "execution_count": 107,
   "outputs": [
    {
     "name": "stdout",
     "output_type": "stream",
     "text": [
      "Available Teams:\n",
      "0        51\n",
      "1       868\n",
      "2      3044\n",
      "3      4381\n",
      "4      3381\n",
      "5      7651\n",
      "6       245\n",
      "7      3604\n",
      "8      1792\n",
      "9      5951\n",
      "10     1690\n",
      "11     6401\n",
      "12     5501\n",
      "13      503\n",
      "14     3618\n",
      "15     3555\n",
      "16     2500\n",
      "17      125\n",
      "18      250\n",
      "19     3624\n",
      "20     1923\n",
      "21     6806\n",
      "22     2337\n",
      "23     1317\n",
      "24      836\n",
      "25     3926\n",
      "26      236\n",
      "27      103\n",
      "28      225\n",
      "29     1918\n",
      "30     2791\n",
      "31     4253\n",
      "32     2502\n",
      "33     5348\n",
      "34     7480\n",
      "35     5943\n",
      "36     4481\n",
      "37     5567\n",
      "38     5811\n",
      "39     2771\n",
      "40      217\n",
      "41     7885\n",
      "42     1058\n",
      "43     3707\n",
      "44      365\n",
      "45      771\n",
      "46     2830\n",
      "47      190\n",
      "48     3146\n",
      "49     1218\n",
      "50     3542\n",
      "51      449\n",
      "52     7462\n",
      "53     7719\n",
      "54     5084\n",
      "55      191\n",
      "56       88\n",
      "57     1676\n",
      "58      175\n",
      "59     3667\n",
      "60      772\n",
      "61     4143\n",
      "62     1024\n",
      "63     7673\n",
      "64     2265\n",
      "65      353\n",
      "66       16\n",
      "70     1781\n",
      "197       0\n",
      "Name: Team Number, dtype: int64\n"
     ]
    }
   ],
   "source": [
    "# Display a list of available teams\n",
    "team_nums = df['Team Number']\n",
    "pd.set_option('display.max_rows', None)\n",
    "print('Available Teams:')\n",
    "print(team_nums.drop_duplicates())\n",
    "pd.reset_option('display.max_rows')"
   ],
   "metadata": {
    "collapsed": false,
    "pycharm": {
     "name": "#%%\n"
    }
   }
  },
  {
   "cell_type": "code",
   "execution_count": 108,
   "metadata": {},
   "outputs": [],
   "source": [
    "# Calculate the average score of a specified team\n",
    "# Parameter team_num: the team number of the team to find the avg score of\n",
    "\n",
    "def avg_score(team_num):\n",
    "\n",
    "    # Creates a new dataframe containing only data for team team_num\n",
    "    teamdf = df[df['Team Number'] == team_num]\n",
    "\n",
    "    total_score = 0\n",
    "\n",
    "    for i in teamdf.index:\n",
    "\n",
    "        # Hab Line Cross\n",
    "        if teamdf['Hab Line 1/0'][i] == 1:\n",
    "            startpos = teamdf['Starting Position'][i]\n",
    "            if startpos == 'L1' or startpos == 'M' or startpos == 'R1':\n",
    "                total_score += 3\n",
    "            elif startpos == 'L2' or startpos == 'R2':\n",
    "                total_score += 6\n",
    "\n",
    "        # Hatch Panels\n",
    "        total_score += 2 * (teamdf['Auto # H Ship Side'][i] + teamdf['Auto # H Ship Front'][i] +\n",
    "                        teamdf['Tele H Ship'][i] + teamdf['Tele Rocket H L1'][i] + teamdf['Tele Rocket H L2'][i] +\n",
    "                        teamdf['Tele Rocket H L3'][i])\n",
    "\n",
    "        if teamdf['Auto H Rkt Lvl'][i] > 0:\n",
    "            total_score += 2\n",
    "\n",
    "        if teamdf['Auto H Rkt Lvl [2]'][i] > 0:\n",
    "            total_score += 2\n",
    "\n",
    "        # Cargo\n",
    "        total_score += 3 * (teamdf['Auto # C Ship Side'][i] + teamdf['Tele C Ship'][i] + teamdf['Tele Rocket C L1'][i] +\n",
    "                        teamdf['Tele Rocket C L2'][i] + teamdf['Tele Rocket C L3'][i])\n",
    "\n",
    "        if teamdf['Auto C Rkt Lvl'][i] > 0:\n",
    "            total_score += 3\n",
    "\n",
    "        # Fouls\n",
    "        if teamdf['Fouls? 0/1'][i] == 1:\n",
    "            total_score -= 7\n",
    "\n",
    "        # Hab Climb Bonus\n",
    "        level = teamdf['Highest success'][i]\n",
    "        if level == 1:\n",
    "            total_score += 3\n",
    "        elif level == 2:\n",
    "            total_score += 6\n",
    "        elif level == 3:\n",
    "            total_score += 12\n",
    "\n",
    "    return total_score / len(teamdf.index)"
   ]
  },
  {
   "cell_type": "code",
   "execution_count": 109,
   "outputs": [],
   "source": [
    "# Calculate a team's average score achieved during sandstorm\n",
    "# Parameter team_num: the team number of the team to find the avg sandstorm score of\n",
    "\n",
    "def sandstorm_score(team_num):\n",
    "\n",
    "    # Creates a new dataframe containing only data for team team_num\n",
    "    teamdf = df[df['Team Number'] == team_num]\n",
    "\n",
    "    total_score = 0\n",
    "\n",
    "    for i in teamdf.index:\n",
    "\n",
    "        # Hab Line Cross\n",
    "        if teamdf['Hab Line 1/0'][i] == 1:\n",
    "            startpos = teamdf['Starting Position'][i]\n",
    "            if startpos == 'L1' or startpos == 'M' or startpos == 'R1':\n",
    "                total_score += 3\n",
    "            elif startpos == 'L2' or startpos == 'R2':\n",
    "                total_score += 6\n",
    "\n",
    "        # Hatch Panels\n",
    "        total_score += 2 * (teamdf['Auto # H Ship Side'][i] + teamdf['Auto # H Ship Front'][i])\n",
    "\n",
    "        if teamdf['Auto H Rkt Lvl'][i] > 0:\n",
    "            total_score += 2\n",
    "\n",
    "        if teamdf['Auto H Rkt Lvl [2]'][i] > 0:\n",
    "            total_score += 2\n",
    "\n",
    "        # Cargo\n",
    "        total_score += 3 * (teamdf['Auto # C Ship Side'][i])\n",
    "\n",
    "        if teamdf['Auto C Rkt Lvl'][i] > 0:\n",
    "            total_score += 3\n",
    "\n",
    "    return total_score / len(teamdf.index)"
   ],
   "metadata": {
    "collapsed": false,
    "pycharm": {
     "name": "#%%\n"
    }
   }
  },
  {
   "cell_type": "code",
   "execution_count": 110,
   "outputs": [],
   "source": [
    "# Calculate a specified team's defense capability\n",
    "# Parameter team_num: the team number of the team to find the defense capability of\n",
    "\n",
    "def defense_score(team_num):\n",
    "\n",
    "    # Creates a new dataframe containing only data for team team_num\n",
    "    teamdf = df[df['Team Number'] == team_num]\n",
    "\n",
    "    defense_score = 0\n",
    "\n",
    "    for i in teamdf.index:\n",
    "        defense_score += teamdf['Def pl amt'][i] + teamdf['Def pl quality'][i]\n",
    "\n",
    "    return defense_score / len(teamdf.index)"
   ],
   "metadata": {
    "collapsed": false,
    "pycharm": {
     "name": "#%%\n"
    }
   }
  },
  {
   "cell_type": "code",
   "execution_count": 111,
   "outputs": [],
   "source": [
    "# Determine how often a specified team's bot dies\n",
    "\n",
    "def dead_score(team_num):\n",
    "\n",
    "    # Creates a new dataframe containing only data for team team_num\n",
    "    teamdf = df[df['Team Number'] == team_num]\n",
    "\n",
    "    dead_score = 0\n",
    "\n",
    "    for i in teamdf.index:\n",
    "        if teamdf['Dead 0-3'][i] == 1:\n",
    "            dead_score += 2\n",
    "        elif teamdf['Dead 0-3'][i] == 2:\n",
    "            dead_score += 7\n",
    "        elif teamdf['Dead 0-3'][i] == 3:\n",
    "            dead_score += 15\n",
    "\n",
    "    return dead_score / len(teamdf.index)"
   ],
   "metadata": {
    "collapsed": false,
    "pycharm": {
     "name": "#%%\n"
    }
   }
  },
  {
   "cell_type": "code",
   "execution_count": 112,
   "outputs": [],
   "source": [
    "def view_dashboard(team_num): # Jeremy\n",
    "    print('Average Score of Team', team_input, 'is', avg_score(team_num), 'points')"
   ],
   "metadata": {
    "collapsed": false,
    "pycharm": {
     "name": "#%%\n"
    }
   }
  },
  {
   "cell_type": "code",
   "execution_count": 113,
   "outputs": [],
   "source": [
    "def choose_members():\n",
    "    print('lists')"
   ],
   "metadata": {
    "collapsed": false,
    "pycharm": {
     "name": "#%%\n"
    }
   }
  },
  {
   "cell_type": "code",
   "execution_count": 114,
   "outputs": [
    {
     "ename": "ZeroDivisionError",
     "evalue": "division by zero",
     "output_type": "error",
     "traceback": [
      "\u001B[1;31m---------------------------------------------------------------------------\u001B[0m",
      "\u001B[1;31mZeroDivisionError\u001B[0m                         Traceback (most recent call last)",
      "\u001B[1;32m<ipython-input-114-92cf7a52f2c9>\u001B[0m in \u001B[0;36m<module>\u001B[1;34m\u001B[0m\n\u001B[0;32m      8\u001B[0m     \u001B[1;32mif\u001B[0m \u001B[0mchoice\u001B[0m \u001B[1;33m==\u001B[0m \u001B[1;36m1\u001B[0m\u001B[1;33m:\u001B[0m\u001B[1;33m\u001B[0m\u001B[1;33m\u001B[0m\u001B[0m\n\u001B[0;32m      9\u001B[0m         \u001B[0mteam_input\u001B[0m \u001B[1;33m=\u001B[0m \u001B[0mint\u001B[0m\u001B[1;33m(\u001B[0m\u001B[0minput\u001B[0m\u001B[1;33m(\u001B[0m\u001B[1;34m'Enter the team number of the team you wish to analyze:'\u001B[0m\u001B[1;33m)\u001B[0m\u001B[1;33m)\u001B[0m\u001B[1;33m\u001B[0m\u001B[1;33m\u001B[0m\u001B[0m\n\u001B[1;32m---> 10\u001B[1;33m         \u001B[0mview_dashboard\u001B[0m\u001B[1;33m(\u001B[0m\u001B[0mteam_input\u001B[0m\u001B[1;33m)\u001B[0m\u001B[1;33m\u001B[0m\u001B[1;33m\u001B[0m\u001B[0m\n\u001B[0m\u001B[0;32m     11\u001B[0m     \u001B[1;32melif\u001B[0m \u001B[0mchoice\u001B[0m \u001B[1;33m==\u001B[0m \u001B[1;36m2\u001B[0m\u001B[1;33m:\u001B[0m\u001B[1;33m\u001B[0m\u001B[1;33m\u001B[0m\u001B[0m\n\u001B[0;32m     12\u001B[0m         \u001B[0mchoose_members\u001B[0m\u001B[1;33m(\u001B[0m\u001B[1;33m)\u001B[0m\u001B[1;33m\u001B[0m\u001B[1;33m\u001B[0m\u001B[0m\n",
      "\u001B[1;32m<ipython-input-112-5c5894787fb3>\u001B[0m in \u001B[0;36mview_dashboard\u001B[1;34m(team_num)\u001B[0m\n\u001B[0;32m      1\u001B[0m \u001B[1;32mdef\u001B[0m \u001B[0mview_dashboard\u001B[0m\u001B[1;33m(\u001B[0m\u001B[0mteam_num\u001B[0m\u001B[1;33m)\u001B[0m\u001B[1;33m:\u001B[0m \u001B[1;31m# Jeremy\u001B[0m\u001B[1;33m\u001B[0m\u001B[1;33m\u001B[0m\u001B[0m\n\u001B[1;32m----> 2\u001B[1;33m     \u001B[0mprint\u001B[0m\u001B[1;33m(\u001B[0m\u001B[1;34m'Average Score of Team'\u001B[0m\u001B[1;33m,\u001B[0m \u001B[0mteam_input\u001B[0m\u001B[1;33m,\u001B[0m \u001B[1;34m'is'\u001B[0m\u001B[1;33m,\u001B[0m \u001B[0mavg_score\u001B[0m\u001B[1;33m(\u001B[0m\u001B[0mteam_num\u001B[0m\u001B[1;33m)\u001B[0m\u001B[1;33m,\u001B[0m \u001B[1;34m'points'\u001B[0m\u001B[1;33m)\u001B[0m\u001B[1;33m\u001B[0m\u001B[1;33m\u001B[0m\u001B[0m\n\u001B[0m\u001B[0;32m      3\u001B[0m \u001B[1;33m\u001B[0m\u001B[0m\n",
      "\u001B[1;32m<ipython-input-108-a110ae9737ee>\u001B[0m in \u001B[0;36mavg_score\u001B[1;34m(team_num)\u001B[0m\n\u001B[0;32m     50\u001B[0m             \u001B[0mtotal_score\u001B[0m \u001B[1;33m+=\u001B[0m \u001B[1;36m12\u001B[0m\u001B[1;33m\u001B[0m\u001B[1;33m\u001B[0m\u001B[0m\n\u001B[0;32m     51\u001B[0m \u001B[1;33m\u001B[0m\u001B[0m\n\u001B[1;32m---> 52\u001B[1;33m     \u001B[1;32mreturn\u001B[0m \u001B[0mtotal_score\u001B[0m \u001B[1;33m/\u001B[0m \u001B[0mlen\u001B[0m\u001B[1;33m(\u001B[0m\u001B[0mteamdf\u001B[0m\u001B[1;33m.\u001B[0m\u001B[0mindex\u001B[0m\u001B[1;33m)\u001B[0m\u001B[1;33m\u001B[0m\u001B[1;33m\u001B[0m\u001B[0m\n\u001B[0m\u001B[0;32m     53\u001B[0m \u001B[1;33m\u001B[0m\u001B[0m\n",
      "\u001B[1;31mZeroDivisionError\u001B[0m: division by zero"
     ]
    }
   ],
   "source": [
    "# UI\n",
    "while True:\n",
    "    choice = int(input(\"\"\"1 - View analytics dashboard for a specified team. \\n\n",
    "                       2 - Choose alliance members by viewing lists of best scorers, etc. \\n\n",
    "                       3 - Exit the program. \\n\n",
    "                       Enter either '1', '2', or '3' to select an option:\"\"\"))\n",
    "\n",
    "    if choice == 1:\n",
    "        team_input = int(input('Enter the team number of the team you wish to analyze:'))\n",
    "        view_dashboard(team_input)\n",
    "    elif choice == 2:\n",
    "        choose_members()\n",
    "    elif choice == 3:\n",
    "        break\n",
    "    else:\n",
    "        print(\"Please enter either '1' or '2'!\")"
   ],
   "metadata": {
    "collapsed": false,
    "pycharm": {
     "name": "#%%\n"
    }
   }
  }
 ]
}