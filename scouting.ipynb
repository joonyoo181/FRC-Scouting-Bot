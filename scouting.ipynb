{
 "metadata": {
  "language_info": {
   "codemirror_mode": {
    "name": "ipython",
    "version": 3
   },
   "file_extension": ".py",
   "mimetype": "text/x-python",
   "name": "python",
   "nbconvert_exporter": "python",
   "pygments_lexer": "ipython3",
   "version": "3.7.9-final"
  },
  "orig_nbformat": 2,
  "kernelspec": {
   "name": "python3",
   "language": "python",
   "display_name": "Python 3"
  }
 },
 "nbformat": 4,
 "nbformat_minor": 2,
 "cells": [
  {
   "cell_type": "code",
   "execution_count": 57,
   "metadata": {},
   "outputs": [],
   "source": [
    "import pandas as pd"
   ]
  },
  {
   "cell_type": "code",
   "execution_count": 58,
   "metadata": {},
   "outputs": [],
   "source": [
    "data = pd.read_csv('2791_2019dar.csv')"
   ]
  },
  {
   "cell_type": "code",
   "execution_count": 59,
   "metadata": {
    "pycharm": {
     "name": "#%%\n"
    }
   },
   "outputs": [],
   "source": [
    "teaminput = int(input('Enter a team number'))\n",
    "teamdata = data[data['Team Number'] == teaminput]"
   ]
  },
  {
   "cell_type": "code",
   "execution_count": 60,
   "outputs": [
    {
     "data": {
      "text/plain": "     Team Number  Match Number Starting Position  Hab Line 1/0  \\\n4           3381             1                 M             1   \n103         3381            18                 M             0   \n176         3381            31                 M             1   \n252         3381            44                L1             1   \n311         3381            55                 M             1   \n341         3381            60                R1             1   \n392         3381            69                R1             1   \n497         3381            87                 M             1   \n550         3381            96                R1             0   \n639         3381           112                 M             1   \n664         3381           112                 M             1   \n\n     Auto # H Ship Side  Auto # H Ship Front  Auto # C Ship Side  \\\n4                     0                    0                   0   \n103                   0                    0                   0   \n176                   0                    0                   0   \n252                   0                    0                   0   \n311                   0                    0                   0   \n341                   0                    0                   0   \n392                   0                    0                   1   \n497                   0                    0                   1   \n550                   0                    0                   1   \n639                   0                    0                   0   \n664                   0                    0                   0   \n\n     Auto C Rkt Lvl  Auto H Rkt Lvl  Auto H Rkt Lvl [2]  ...  Tele Dropped H  \\\n4                 0               0                   0  ...               0   \n103               0               0                   0  ...               0   \n176               0               0                   0  ...               0   \n252               0               0                   0  ...               0   \n311               0               0                   0  ...               0   \n341               0               0                   0  ...               0   \n392               0               0                   0  ...               1   \n497               0               0                   0  ...               0   \n550               0               0                   0  ...               0   \n639               0               0                   0  ...               0   \n664               0               0                   0  ...               0   \n\n     Def pl amt  Def pl quality  Def rec amt  Who Played D  Fouls? 0/1  \\\n4             0               0            0             0           0   \n103           0               0            0             0           0   \n176           0               0            0             0           0   \n252           0               0            0             0           0   \n311           0               0            1           353           0   \n341           0               0            2           191           0   \n392           0               0            0             0           0   \n497           3               1            0             0           0   \n550           2               2            0             0           0   \n639           0               0            0             0           1   \n664           0               0            0             0           1   \n\n     Dead 0-3  Highest success  Highest attempt  Was assisted? 1/0  \n4           0                0                0                  0  \n103         0                1                1                  0  \n176         0                1                0                  0  \n252         0                1                1                  0  \n311         0                1                0                  0  \n341         0                1                1                  0  \n392         0                1                1                  0  \n497         0                1                1                  0  \n550         0                0                0                  0  \n639         0                0                0                  0  \n664         0                0                0                  0  \n\n[11 rows x 31 columns]",
      "text/html": "<div>\n<style scoped>\n    .dataframe tbody tr th:only-of-type {\n        vertical-align: middle;\n    }\n\n    .dataframe tbody tr th {\n        vertical-align: top;\n    }\n\n    .dataframe thead th {\n        text-align: right;\n    }\n</style>\n<table border=\"1\" class=\"dataframe\">\n  <thead>\n    <tr style=\"text-align: right;\">\n      <th></th>\n      <th>Team Number</th>\n      <th>Match Number</th>\n      <th>Starting Position</th>\n      <th>Hab Line 1/0</th>\n      <th>Auto # H Ship Side</th>\n      <th>Auto # H Ship Front</th>\n      <th>Auto # C Ship Side</th>\n      <th>Auto C Rkt Lvl</th>\n      <th>Auto H Rkt Lvl</th>\n      <th>Auto H Rkt Lvl [2]</th>\n      <th>...</th>\n      <th>Tele Dropped H</th>\n      <th>Def pl amt</th>\n      <th>Def pl quality</th>\n      <th>Def rec amt</th>\n      <th>Who Played D</th>\n      <th>Fouls? 0/1</th>\n      <th>Dead 0-3</th>\n      <th>Highest success</th>\n      <th>Highest attempt</th>\n      <th>Was assisted? 1/0</th>\n    </tr>\n  </thead>\n  <tbody>\n    <tr>\n      <th>4</th>\n      <td>3381</td>\n      <td>1</td>\n      <td>M</td>\n      <td>1</td>\n      <td>0</td>\n      <td>0</td>\n      <td>0</td>\n      <td>0</td>\n      <td>0</td>\n      <td>0</td>\n      <td>...</td>\n      <td>0</td>\n      <td>0</td>\n      <td>0</td>\n      <td>0</td>\n      <td>0</td>\n      <td>0</td>\n      <td>0</td>\n      <td>0</td>\n      <td>0</td>\n      <td>0</td>\n    </tr>\n    <tr>\n      <th>103</th>\n      <td>3381</td>\n      <td>18</td>\n      <td>M</td>\n      <td>0</td>\n      <td>0</td>\n      <td>0</td>\n      <td>0</td>\n      <td>0</td>\n      <td>0</td>\n      <td>0</td>\n      <td>...</td>\n      <td>0</td>\n      <td>0</td>\n      <td>0</td>\n      <td>0</td>\n      <td>0</td>\n      <td>0</td>\n      <td>0</td>\n      <td>1</td>\n      <td>1</td>\n      <td>0</td>\n    </tr>\n    <tr>\n      <th>176</th>\n      <td>3381</td>\n      <td>31</td>\n      <td>M</td>\n      <td>1</td>\n      <td>0</td>\n      <td>0</td>\n      <td>0</td>\n      <td>0</td>\n      <td>0</td>\n      <td>0</td>\n      <td>...</td>\n      <td>0</td>\n      <td>0</td>\n      <td>0</td>\n      <td>0</td>\n      <td>0</td>\n      <td>0</td>\n      <td>0</td>\n      <td>1</td>\n      <td>0</td>\n      <td>0</td>\n    </tr>\n    <tr>\n      <th>252</th>\n      <td>3381</td>\n      <td>44</td>\n      <td>L1</td>\n      <td>1</td>\n      <td>0</td>\n      <td>0</td>\n      <td>0</td>\n      <td>0</td>\n      <td>0</td>\n      <td>0</td>\n      <td>...</td>\n      <td>0</td>\n      <td>0</td>\n      <td>0</td>\n      <td>0</td>\n      <td>0</td>\n      <td>0</td>\n      <td>0</td>\n      <td>1</td>\n      <td>1</td>\n      <td>0</td>\n    </tr>\n    <tr>\n      <th>311</th>\n      <td>3381</td>\n      <td>55</td>\n      <td>M</td>\n      <td>1</td>\n      <td>0</td>\n      <td>0</td>\n      <td>0</td>\n      <td>0</td>\n      <td>0</td>\n      <td>0</td>\n      <td>...</td>\n      <td>0</td>\n      <td>0</td>\n      <td>0</td>\n      <td>1</td>\n      <td>353</td>\n      <td>0</td>\n      <td>0</td>\n      <td>1</td>\n      <td>0</td>\n      <td>0</td>\n    </tr>\n    <tr>\n      <th>341</th>\n      <td>3381</td>\n      <td>60</td>\n      <td>R1</td>\n      <td>1</td>\n      <td>0</td>\n      <td>0</td>\n      <td>0</td>\n      <td>0</td>\n      <td>0</td>\n      <td>0</td>\n      <td>...</td>\n      <td>0</td>\n      <td>0</td>\n      <td>0</td>\n      <td>2</td>\n      <td>191</td>\n      <td>0</td>\n      <td>0</td>\n      <td>1</td>\n      <td>1</td>\n      <td>0</td>\n    </tr>\n    <tr>\n      <th>392</th>\n      <td>3381</td>\n      <td>69</td>\n      <td>R1</td>\n      <td>1</td>\n      <td>0</td>\n      <td>0</td>\n      <td>1</td>\n      <td>0</td>\n      <td>0</td>\n      <td>0</td>\n      <td>...</td>\n      <td>1</td>\n      <td>0</td>\n      <td>0</td>\n      <td>0</td>\n      <td>0</td>\n      <td>0</td>\n      <td>0</td>\n      <td>1</td>\n      <td>1</td>\n      <td>0</td>\n    </tr>\n    <tr>\n      <th>497</th>\n      <td>3381</td>\n      <td>87</td>\n      <td>M</td>\n      <td>1</td>\n      <td>0</td>\n      <td>0</td>\n      <td>1</td>\n      <td>0</td>\n      <td>0</td>\n      <td>0</td>\n      <td>...</td>\n      <td>0</td>\n      <td>3</td>\n      <td>1</td>\n      <td>0</td>\n      <td>0</td>\n      <td>0</td>\n      <td>0</td>\n      <td>1</td>\n      <td>1</td>\n      <td>0</td>\n    </tr>\n    <tr>\n      <th>550</th>\n      <td>3381</td>\n      <td>96</td>\n      <td>R1</td>\n      <td>0</td>\n      <td>0</td>\n      <td>0</td>\n      <td>1</td>\n      <td>0</td>\n      <td>0</td>\n      <td>0</td>\n      <td>...</td>\n      <td>0</td>\n      <td>2</td>\n      <td>2</td>\n      <td>0</td>\n      <td>0</td>\n      <td>0</td>\n      <td>0</td>\n      <td>0</td>\n      <td>0</td>\n      <td>0</td>\n    </tr>\n    <tr>\n      <th>639</th>\n      <td>3381</td>\n      <td>112</td>\n      <td>M</td>\n      <td>1</td>\n      <td>0</td>\n      <td>0</td>\n      <td>0</td>\n      <td>0</td>\n      <td>0</td>\n      <td>0</td>\n      <td>...</td>\n      <td>0</td>\n      <td>0</td>\n      <td>0</td>\n      <td>0</td>\n      <td>0</td>\n      <td>1</td>\n      <td>0</td>\n      <td>0</td>\n      <td>0</td>\n      <td>0</td>\n    </tr>\n    <tr>\n      <th>664</th>\n      <td>3381</td>\n      <td>112</td>\n      <td>M</td>\n      <td>1</td>\n      <td>0</td>\n      <td>0</td>\n      <td>0</td>\n      <td>0</td>\n      <td>0</td>\n      <td>0</td>\n      <td>...</td>\n      <td>0</td>\n      <td>0</td>\n      <td>0</td>\n      <td>0</td>\n      <td>0</td>\n      <td>1</td>\n      <td>0</td>\n      <td>0</td>\n      <td>0</td>\n      <td>0</td>\n    </tr>\n  </tbody>\n</table>\n<p>11 rows × 31 columns</p>\n</div>"
     },
     "execution_count": 60,
     "metadata": {},
     "output_type": "execute_result"
    }
   ],
   "source": [
    "teamdata"
   ],
   "metadata": {
    "collapsed": false,
    "pycharm": {
     "name": "#%%\n"
    }
   }
  }
 ]
}