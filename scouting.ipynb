{
 "metadata": {
  "language_info": {
   "codemirror_mode": {
    "name": "ipython",
    "version": 3
   },
   "file_extension": ".py",
   "mimetype": "text/x-python",
   "name": "python",
   "nbconvert_exporter": "python",
   "pygments_lexer": "ipython3",
   "version": "3.8.3-final"
  },
  "orig_nbformat": 2,
  "kernelspec": {
   "name": "python3",
   "language": "python",
   "display_name": "Python 3"
  }
 },
 "nbformat": 4,
 "nbformat_minor": 2,
 "cells": [
  {
   "cell_type": "code",
   "execution_count": 76,
   "metadata": {},
   "outputs": [],
   "source": [
    "import pandas as pd"
   ]
  },
  {
   "cell_type": "code",
   "execution_count": 77,
   "metadata": {},
   "outputs": [],
   "source": [
    "df = pd.read_csv('data/2791_2019dar.csv')"
   ]
  },
  {
   "cell_type": "code",
   "execution_count": 78,
   "outputs": [
    {
     "name": "stdout",
     "output_type": "stream",
     "text": [
      "Available Teams:\n",
      "0        51\n",
      "1       868\n",
      "2      3044\n",
      "3      4381\n",
      "4      3381\n",
      "5      7651\n",
      "6       245\n",
      "7      3604\n",
      "8      1792\n",
      "9      5951\n",
      "10     1690\n",
      "11     6401\n",
      "12     5501\n",
      "13      503\n",
      "14     3618\n",
      "15     3555\n",
      "16     2500\n",
      "17      125\n",
      "18      250\n",
      "19     3624\n",
      "20     1923\n",
      "21     6806\n",
      "22     2337\n",
      "23     1317\n",
      "24      836\n",
      "25     3926\n",
      "26      236\n",
      "27      103\n",
      "28      225\n",
      "29     1918\n",
      "30     2791\n",
      "31     4253\n",
      "32     2502\n",
      "33     5348\n",
      "34     7480\n",
      "35     5943\n",
      "36     4481\n",
      "37     5567\n",
      "38     5811\n",
      "39     2771\n",
      "40      217\n",
      "41     7885\n",
      "42     1058\n",
      "43     3707\n",
      "44      365\n",
      "45      771\n",
      "46     2830\n",
      "47      190\n",
      "48     3146\n",
      "49     1218\n",
      "50     3542\n",
      "51      449\n",
      "52     7462\n",
      "53     7719\n",
      "54     5084\n",
      "55      191\n",
      "56       88\n",
      "57     1676\n",
      "58      175\n",
      "59     3667\n",
      "60      772\n",
      "61     4143\n",
      "62     1024\n",
      "63     7673\n",
      "64     2265\n",
      "65      353\n",
      "66       16\n",
      "70     1781\n",
      "197       0\n",
      "Name: Team Number, dtype: int64\n"
     ]
    }
   ],
   "source": [
    "# Display a list of available teams\n",
    "teamNums = df['Team Number']\n",
    "pd.set_option('display.max_rows', None)\n",
    "print('Available Teams:')\n",
    "print(teamNums.drop_duplicates())\n",
    "pd.reset_option('display.max_rows')"
   ],
   "metadata": {
    "collapsed": false,
    "pycharm": {
     "name": "#%%\n"
    }
   }
  },
  {
   "cell_type": "code",
   "execution_count": 79,
   "metadata": {
    "pycharm": {
     "name": "#%%\n"
    }
   },
   "outputs": [
    {
     "data": {
      "text/plain": "     Team Number  Match Number Starting Position  Hab Line 1/0  \\\n0             51             1                R2             1   \n82            51            14                R2             1   \n163           51            28                L2             1   \n205           51            36                R2             1   \n356           51            63                R2             1   \n405           51            71                L2             1   \n474           51            83                 M             1   \n529           51            92                L2             1   \n634           51           111                L2             1   \n659           51           111                L2             1   \n\n     Auto # H Ship Side  Auto # H Ship Front  Auto # C Ship Side  \\\n0                     0                    0                   0   \n82                    0                    0                   0   \n163                   0                    0                   0   \n205                   1                    0                   0   \n356                   0                    0                   0   \n405                   0                    0                   0   \n474                   0                    0                   0   \n529                   0                    0                   0   \n634                   0                    0                   0   \n659                   0                    0                   0   \n\n     Auto C Rkt Lvl  Auto H Rkt Lvl  Auto H Rkt Lvl [2]  ...  Tele Dropped H  \\\n0                 0               0                   0  ...               1   \n82                0               0                   0  ...               0   \n163               0               0                   0  ...               0   \n205               0               0                   0  ...               0   \n356               0               0                   0  ...               0   \n405               0               0                   0  ...               1   \n474               0               0                   0  ...               0   \n529               0               0                   0  ...               0   \n634               0               0                   0  ...               1   \n659               0               0                   0  ...               1   \n\n     Def pl amt  Def pl quality  Def rec amt  Who Played D  Fouls? 0/1  \\\n0             0               0            0             0           0   \n82            0               0            1          6806           0   \n163           0               0            0             0           0   \n205           0               0            0             0           0   \n356           0               0            1          4481           0   \n405           3               2            0             0           0   \n474           0               0            2          7462           0   \n529           0               0            0             0           0   \n634           1               2            0             0           0   \n659           1               2            0             0           0   \n\n     Dead 0-3  Highest success  Highest attempt  Was assisted? 1/0  \n0           0                2                2                  0  \n82          0                3                3                  0  \n163         0                3                3                  0  \n205         0                3                3                  0  \n356         0                3                3                  0  \n405         0                3                3                  0  \n474         0                3                3                  0  \n529         0                2                2                  0  \n634         0                3                3                  0  \n659         0                3                3                  0  \n\n[10 rows x 31 columns]",
      "text/html": "<div>\n<style scoped>\n    .dataframe tbody tr th:only-of-type {\n        vertical-align: middle;\n    }\n\n    .dataframe tbody tr th {\n        vertical-align: top;\n    }\n\n    .dataframe thead th {\n        text-align: right;\n    }\n</style>\n<table border=\"1\" class=\"dataframe\">\n  <thead>\n    <tr style=\"text-align: right;\">\n      <th></th>\n      <th>Team Number</th>\n      <th>Match Number</th>\n      <th>Starting Position</th>\n      <th>Hab Line 1/0</th>\n      <th>Auto # H Ship Side</th>\n      <th>Auto # H Ship Front</th>\n      <th>Auto # C Ship Side</th>\n      <th>Auto C Rkt Lvl</th>\n      <th>Auto H Rkt Lvl</th>\n      <th>Auto H Rkt Lvl [2]</th>\n      <th>...</th>\n      <th>Tele Dropped H</th>\n      <th>Def pl amt</th>\n      <th>Def pl quality</th>\n      <th>Def rec amt</th>\n      <th>Who Played D</th>\n      <th>Fouls? 0/1</th>\n      <th>Dead 0-3</th>\n      <th>Highest success</th>\n      <th>Highest attempt</th>\n      <th>Was assisted? 1/0</th>\n    </tr>\n  </thead>\n  <tbody>\n    <tr>\n      <th>0</th>\n      <td>51</td>\n      <td>1</td>\n      <td>R2</td>\n      <td>1</td>\n      <td>0</td>\n      <td>0</td>\n      <td>0</td>\n      <td>0</td>\n      <td>0</td>\n      <td>0</td>\n      <td>...</td>\n      <td>1</td>\n      <td>0</td>\n      <td>0</td>\n      <td>0</td>\n      <td>0</td>\n      <td>0</td>\n      <td>0</td>\n      <td>2</td>\n      <td>2</td>\n      <td>0</td>\n    </tr>\n    <tr>\n      <th>82</th>\n      <td>51</td>\n      <td>14</td>\n      <td>R2</td>\n      <td>1</td>\n      <td>0</td>\n      <td>0</td>\n      <td>0</td>\n      <td>0</td>\n      <td>0</td>\n      <td>0</td>\n      <td>...</td>\n      <td>0</td>\n      <td>0</td>\n      <td>0</td>\n      <td>1</td>\n      <td>6806</td>\n      <td>0</td>\n      <td>0</td>\n      <td>3</td>\n      <td>3</td>\n      <td>0</td>\n    </tr>\n    <tr>\n      <th>163</th>\n      <td>51</td>\n      <td>28</td>\n      <td>L2</td>\n      <td>1</td>\n      <td>0</td>\n      <td>0</td>\n      <td>0</td>\n      <td>0</td>\n      <td>0</td>\n      <td>0</td>\n      <td>...</td>\n      <td>0</td>\n      <td>0</td>\n      <td>0</td>\n      <td>0</td>\n      <td>0</td>\n      <td>0</td>\n      <td>0</td>\n      <td>3</td>\n      <td>3</td>\n      <td>0</td>\n    </tr>\n    <tr>\n      <th>205</th>\n      <td>51</td>\n      <td>36</td>\n      <td>R2</td>\n      <td>1</td>\n      <td>1</td>\n      <td>0</td>\n      <td>0</td>\n      <td>0</td>\n      <td>0</td>\n      <td>0</td>\n      <td>...</td>\n      <td>0</td>\n      <td>0</td>\n      <td>0</td>\n      <td>0</td>\n      <td>0</td>\n      <td>0</td>\n      <td>0</td>\n      <td>3</td>\n      <td>3</td>\n      <td>0</td>\n    </tr>\n    <tr>\n      <th>356</th>\n      <td>51</td>\n      <td>63</td>\n      <td>R2</td>\n      <td>1</td>\n      <td>0</td>\n      <td>0</td>\n      <td>0</td>\n      <td>0</td>\n      <td>0</td>\n      <td>0</td>\n      <td>...</td>\n      <td>0</td>\n      <td>0</td>\n      <td>0</td>\n      <td>1</td>\n      <td>4481</td>\n      <td>0</td>\n      <td>0</td>\n      <td>3</td>\n      <td>3</td>\n      <td>0</td>\n    </tr>\n    <tr>\n      <th>405</th>\n      <td>51</td>\n      <td>71</td>\n      <td>L2</td>\n      <td>1</td>\n      <td>0</td>\n      <td>0</td>\n      <td>0</td>\n      <td>0</td>\n      <td>0</td>\n      <td>0</td>\n      <td>...</td>\n      <td>1</td>\n      <td>3</td>\n      <td>2</td>\n      <td>0</td>\n      <td>0</td>\n      <td>0</td>\n      <td>0</td>\n      <td>3</td>\n      <td>3</td>\n      <td>0</td>\n    </tr>\n    <tr>\n      <th>474</th>\n      <td>51</td>\n      <td>83</td>\n      <td>M</td>\n      <td>1</td>\n      <td>0</td>\n      <td>0</td>\n      <td>0</td>\n      <td>0</td>\n      <td>0</td>\n      <td>0</td>\n      <td>...</td>\n      <td>0</td>\n      <td>0</td>\n      <td>0</td>\n      <td>2</td>\n      <td>7462</td>\n      <td>0</td>\n      <td>0</td>\n      <td>3</td>\n      <td>3</td>\n      <td>0</td>\n    </tr>\n    <tr>\n      <th>529</th>\n      <td>51</td>\n      <td>92</td>\n      <td>L2</td>\n      <td>1</td>\n      <td>0</td>\n      <td>0</td>\n      <td>0</td>\n      <td>0</td>\n      <td>0</td>\n      <td>0</td>\n      <td>...</td>\n      <td>0</td>\n      <td>0</td>\n      <td>0</td>\n      <td>0</td>\n      <td>0</td>\n      <td>0</td>\n      <td>0</td>\n      <td>2</td>\n      <td>2</td>\n      <td>0</td>\n    </tr>\n    <tr>\n      <th>634</th>\n      <td>51</td>\n      <td>111</td>\n      <td>L2</td>\n      <td>1</td>\n      <td>0</td>\n      <td>0</td>\n      <td>0</td>\n      <td>0</td>\n      <td>0</td>\n      <td>0</td>\n      <td>...</td>\n      <td>1</td>\n      <td>1</td>\n      <td>2</td>\n      <td>0</td>\n      <td>0</td>\n      <td>0</td>\n      <td>0</td>\n      <td>3</td>\n      <td>3</td>\n      <td>0</td>\n    </tr>\n    <tr>\n      <th>659</th>\n      <td>51</td>\n      <td>111</td>\n      <td>L2</td>\n      <td>1</td>\n      <td>0</td>\n      <td>0</td>\n      <td>0</td>\n      <td>0</td>\n      <td>0</td>\n      <td>0</td>\n      <td>...</td>\n      <td>1</td>\n      <td>1</td>\n      <td>2</td>\n      <td>0</td>\n      <td>0</td>\n      <td>0</td>\n      <td>0</td>\n      <td>3</td>\n      <td>3</td>\n      <td>0</td>\n    </tr>\n  </tbody>\n</table>\n<p>10 rows × 31 columns</p>\n</div>"
     },
     "execution_count": 79,
     "metadata": {},
     "output_type": "execute_result"
    }
   ],
   "source": [
    "teamInput = int(input('Enter a team number'))\n",
    "teamdf = df[df['Team Number'] == teamInput]\n",
    "teamdf"
   ]
  },
  {
   "cell_type": "code",
   "execution_count": 80,
   "metadata": {},
   "outputs": [
    {
     "name": "stdout",
     "output_type": "stream",
     "text": [
      "Average Score of Team 51 is 31.9 points\n"
     ]
    }
   ],
   "source": [
    "# Find out the average score of the team's bot\n",
    "def avgScore(df):\n",
    "\n",
    "    totalScore = 0\n",
    "\n",
    "    for i in df.index:\n",
    "\n",
    "        # Hab Line Cross\n",
    "        if df['Hab Line 1/0'][i] == 1:\n",
    "            startpos = df['Starting Position'][i]\n",
    "            if startpos == 'L1' or startpos == 'M' or startpos == 'R1':\n",
    "                totalScore += 3\n",
    "            elif startpos == 'L2' or startpos == 'R2':\n",
    "                totalScore += 6\n",
    "\n",
    "        # Hatch Panels\n",
    "        totalScore += 2 * (df['Auto # H Ship Side'][i] + df['Auto # H Ship Front'][i] +\n",
    "                        df['Tele H Ship'][i] + df['Tele Rocket H L1'][i] + df['Tele Rocket H L2'][i] +\n",
    "                        df['Tele Rocket H L3'][i])\n",
    "\n",
    "        if df['Auto H Rkt Lvl'][i] > 0:\n",
    "            totalScore += 2\n",
    "\n",
    "        if df['Auto H Rkt Lvl [2]'][i] > 0:\n",
    "            totalScore += 2\n",
    "\n",
    "        # Cargo\n",
    "        totalScore += 3 * (df['Auto # C Ship Side'][i] + df['Tele C Ship'][i] + df['Tele Rocket C L1'][i] +\n",
    "                        df['Tele Rocket C L2'][i] + df['Tele Rocket C L3'][i])\n",
    "\n",
    "        if df['Auto C Rkt Lvl'][i] > 0:\n",
    "            totalScore += 3\n",
    "\n",
    "        # Fouls\n",
    "        if df['Fouls? 0/1'][i] == 1:\n",
    "            totalScore -= 7\n",
    "\n",
    "        # Hab Climb Bonus\n",
    "        level = df['Highest success'][i]\n",
    "        if level == 1:\n",
    "            totalScore += 3\n",
    "        elif level == 2:\n",
    "            totalScore += 6\n",
    "        elif level == 3:\n",
    "            totalScore += 12\n",
    "        averageScore = totalScore / len(df)\n",
    "\n",
    "    return averageScore\n",
    "\n",
    "print('Average Score of Team', teamInput, 'is', avgScore(teamdf), 'points')"
   ]
  },
  {
   "cell_type": "code",
   "execution_count": null,
   "outputs": [],
   "source": [
    "# Find out the points the team's bot made during the auto\n",
    "def sandstormScore(df):\n",
    "\n",
    "    totalScore = 0\n",
    "\n",
    "    for i in df.index:\n",
    "\n",
    "        # Hatch Panels\n",
    "        totalScore += 2 * (df['Auto # H Ship Side'][i] + df['Auto # H Ship Front'][i] + df['Auto # H Dropped'][i])\n",
    "\n",
    "        if df['Auto H Rkt Lvl'][i] > 0:\n",
    "            totalScore += 2\n",
    "\n",
    "        if df['Auto H Rkt Lvl [2]'][i] > 0:\n",
    "            totalScore += 2\n",
    "\n",
    "        # Cargo\n",
    "        totalScore += 3 * (df['Auto # C Ship Side'][i] + df['Auto # C Dropped'][i])\n",
    "\n",
    "        if df['Auto C Rkt Lvl'][i] > 0:\n",
    "            totalScore += 3\n",
    "\n",
    "    return totalScore"
   ],
   "metadata": {
    "collapsed": false,
    "pycharm": {
     "name": "#%%\n"
    }
   }
  },
  {
   "cell_type": "code",
   "execution_count": null,
   "outputs": [],
   "source": [
    "# Find out if the team's bot are aggressive and need to be defended\n",
    "# (higher the score = more aggressive = need more defense against that bot)\n",
    "def threatScore(df):\n",
    "\n",
    "    totalScore = 0\n",
    "\n",
    "    # Defended Against Counter\n",
    "    for i in df.index:\n",
    "\n",
    "        # Defense received (total score will be equal to the number of times that bot received defense)\n",
    "        # (this isn't the best method to measure if the bot needs to be defended against; however, we can..\n",
    "        # safely assume that from previous matches, there must be some logic to why that bot was defeneded against)\n",
    "        totalScore += df['Def rec amt'][i]\n",
    "\n",
    "    return totalScore"
   ],
   "metadata": {
    "collapsed": false,
    "pycharm": {
     "name": "#%%\n"
    }
   }
  },
  {
   "cell_type": "code",
   "execution_count": null,
   "outputs": [],
   "source": [
    "# Find out if the team's bot are good at defending\n",
    "def defenseScore(df):\n",
    "\n",
    "    totalScore = 0\n",
    "\n",
    "    # Defended For Counter\n",
    "    for i in df.index:\n",
    "\n",
    "        totalScore += (df['Def pl amt'][i] * df['Def pl quality'][i])\n",
    "\n",
    "    return totalScore"
   ],
   "metadata": {
    "collapsed": false,
    "pycharm": {
     "name": "#%%\n"
    }
   }
  },
  {
   "cell_type": "code",
   "execution_count": null,
   "outputs": [],
   "source": [
    "# Find out how often the team's bot dies\n",
    "def deadScore(df):\n",
    "\n",
    "    totalScore = 0\n",
    "\n",
    "    # Dead Counter\n",
    "    for i in df.index:\n",
    "\n",
    "        totalScore += df['Dead 0-3']\n",
    "\n",
    "    return totalScore\n"
   ],
   "metadata": {
    "collapsed": false,
    "pycharm": {
     "name": "#%%\n"
    }
   }
  }
 ]
}