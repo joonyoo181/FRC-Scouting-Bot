{
 "metadata": {
  "language_info": {
   "codemirror_mode": {
    "name": "ipython",
    "version": 3
   },
   "file_extension": ".py",
   "mimetype": "text/x-python",
   "name": "python",
   "nbconvert_exporter": "python",
   "pygments_lexer": "ipython3",
   "version": "3.7.9-final"
  },
  "orig_nbformat": 2,
  "kernelspec": {
   "name": "python3",
   "display_name": "Python 3"
  }
 },
 "nbformat": 4,
 "nbformat_minor": 2,
 "cells": [
  {
   "cell_type": "code",
   "execution_count": 1,
   "metadata": {},
   "outputs": [],
   "source": [
    "import pandas as pd\n",
    "import numpy as np"
   ]
  },
  {
   "cell_type": "code",
   "execution_count": 4,
   "metadata": {},
   "outputs": [
    {
     "output_type": "execute_result",
     "data": {
      "text/plain": [
       "   Team Number  Match Number Starting Position  Hab Line 1/0  \\\n",
       "0           51           1.0                R2             1   \n",
       "1          868           1.0                 M             1   \n",
       "2         3044           1.0                L2             1   \n",
       "3         4381           1.0                R1             1   \n",
       "4         3381           1.0                 M             1   \n",
       "5         7651           1.0                L2             1   \n",
       "6          245           2.0                R2             1   \n",
       "7         3604           2.0                L2             1   \n",
       "8         1792           2.0                 M             1   \n",
       "9         5951           2.0                R2             1   \n",
       "\n",
       "   Auto # H Ship Side  Auto # H Ship Front  Auto # C Ship Side  \\\n",
       "0                   0                    0                   0   \n",
       "1                   0                    1                   0   \n",
       "2                   0                    0                   0   \n",
       "3                   0                    0                   0   \n",
       "4                   0                    0                   0   \n",
       "5                   0                    0                   0   \n",
       "6                   0                    0                   0   \n",
       "7                   0                    0                   1   \n",
       "8                   0                    1                   0   \n",
       "9                   0                    0                   0   \n",
       "\n",
       "   Auto C Rkt Lvl  Auto H Rkt Lvl  Auto H Rkt Lvl [2]  ...  Tele Dropped H  \\\n",
       "0               0               0                   0  ...               1   \n",
       "1               0               0                   0  ...               0   \n",
       "2               0               0                   0  ...               0   \n",
       "3               0               1                   0  ...               1   \n",
       "4               0               0                   0  ...               0   \n",
       "5               0               0                   0  ...               0   \n",
       "6               0               0                   0  ...               0   \n",
       "7               0               0                   0  ...               0   \n",
       "8               0               0                   0  ...               0   \n",
       "9               0               2                   0  ...               0   \n",
       "\n",
       "   Def pl amt  Def pl quality  Def rec amt  Who Played D  Fouls? 0/1  \\\n",
       "0           0               0            0             0           0   \n",
       "1           0               0            0             0           0   \n",
       "2           0               0            0             0           0   \n",
       "3           0               0            0             0           0   \n",
       "4           0               0            0             0           0   \n",
       "5           3               1            0             0           0   \n",
       "6           0               0            0             0           0   \n",
       "7           0               0            1          6401           0   \n",
       "8           0               0            1          6401           0   \n",
       "9           3               3            0             0           0   \n",
       "\n",
       "   Dead 0-3  Highest success  Highest attempt  Was assisted? 1/0  \n",
       "0         0                2                2                  0  \n",
       "1         0                3                3                  0  \n",
       "2         0                1                1                  0  \n",
       "3         0                1                3                  0  \n",
       "4         0                0                0                  0  \n",
       "5         1                1                1                  0  \n",
       "6         0                3                0                  0  \n",
       "7         0                2                0                  0  \n",
       "8         0                3                0                  0  \n",
       "9         0                2                0                  0  \n",
       "\n",
       "[10 rows x 31 columns]"
      ],
      "text/html": "<div>\n<style scoped>\n    .dataframe tbody tr th:only-of-type {\n        vertical-align: middle;\n    }\n\n    .dataframe tbody tr th {\n        vertical-align: top;\n    }\n\n    .dataframe thead th {\n        text-align: right;\n    }\n</style>\n<table border=\"1\" class=\"dataframe\">\n  <thead>\n    <tr style=\"text-align: right;\">\n      <th></th>\n      <th>Team Number</th>\n      <th>Match Number</th>\n      <th>Starting Position</th>\n      <th>Hab Line 1/0</th>\n      <th>Auto # H Ship Side</th>\n      <th>Auto # H Ship Front</th>\n      <th>Auto # C Ship Side</th>\n      <th>Auto C Rkt Lvl</th>\n      <th>Auto H Rkt Lvl</th>\n      <th>Auto H Rkt Lvl [2]</th>\n      <th>...</th>\n      <th>Tele Dropped H</th>\n      <th>Def pl amt</th>\n      <th>Def pl quality</th>\n      <th>Def rec amt</th>\n      <th>Who Played D</th>\n      <th>Fouls? 0/1</th>\n      <th>Dead 0-3</th>\n      <th>Highest success</th>\n      <th>Highest attempt</th>\n      <th>Was assisted? 1/0</th>\n    </tr>\n  </thead>\n  <tbody>\n    <tr>\n      <th>0</th>\n      <td>51</td>\n      <td>1.0</td>\n      <td>R2</td>\n      <td>1</td>\n      <td>0</td>\n      <td>0</td>\n      <td>0</td>\n      <td>0</td>\n      <td>0</td>\n      <td>0</td>\n      <td>...</td>\n      <td>1</td>\n      <td>0</td>\n      <td>0</td>\n      <td>0</td>\n      <td>0</td>\n      <td>0</td>\n      <td>0</td>\n      <td>2</td>\n      <td>2</td>\n      <td>0</td>\n    </tr>\n    <tr>\n      <th>1</th>\n      <td>868</td>\n      <td>1.0</td>\n      <td>M</td>\n      <td>1</td>\n      <td>0</td>\n      <td>1</td>\n      <td>0</td>\n      <td>0</td>\n      <td>0</td>\n      <td>0</td>\n      <td>...</td>\n      <td>0</td>\n      <td>0</td>\n      <td>0</td>\n      <td>0</td>\n      <td>0</td>\n      <td>0</td>\n      <td>0</td>\n      <td>3</td>\n      <td>3</td>\n      <td>0</td>\n    </tr>\n    <tr>\n      <th>2</th>\n      <td>3044</td>\n      <td>1.0</td>\n      <td>L2</td>\n      <td>1</td>\n      <td>0</td>\n      <td>0</td>\n      <td>0</td>\n      <td>0</td>\n      <td>0</td>\n      <td>0</td>\n      <td>...</td>\n      <td>0</td>\n      <td>0</td>\n      <td>0</td>\n      <td>0</td>\n      <td>0</td>\n      <td>0</td>\n      <td>0</td>\n      <td>1</td>\n      <td>1</td>\n      <td>0</td>\n    </tr>\n    <tr>\n      <th>3</th>\n      <td>4381</td>\n      <td>1.0</td>\n      <td>R1</td>\n      <td>1</td>\n      <td>0</td>\n      <td>0</td>\n      <td>0</td>\n      <td>0</td>\n      <td>1</td>\n      <td>0</td>\n      <td>...</td>\n      <td>1</td>\n      <td>0</td>\n      <td>0</td>\n      <td>0</td>\n      <td>0</td>\n      <td>0</td>\n      <td>0</td>\n      <td>1</td>\n      <td>3</td>\n      <td>0</td>\n    </tr>\n    <tr>\n      <th>4</th>\n      <td>3381</td>\n      <td>1.0</td>\n      <td>M</td>\n      <td>1</td>\n      <td>0</td>\n      <td>0</td>\n      <td>0</td>\n      <td>0</td>\n      <td>0</td>\n      <td>0</td>\n      <td>...</td>\n      <td>0</td>\n      <td>0</td>\n      <td>0</td>\n      <td>0</td>\n      <td>0</td>\n      <td>0</td>\n      <td>0</td>\n      <td>0</td>\n      <td>0</td>\n      <td>0</td>\n    </tr>\n    <tr>\n      <th>5</th>\n      <td>7651</td>\n      <td>1.0</td>\n      <td>L2</td>\n      <td>1</td>\n      <td>0</td>\n      <td>0</td>\n      <td>0</td>\n      <td>0</td>\n      <td>0</td>\n      <td>0</td>\n      <td>...</td>\n      <td>0</td>\n      <td>3</td>\n      <td>1</td>\n      <td>0</td>\n      <td>0</td>\n      <td>0</td>\n      <td>1</td>\n      <td>1</td>\n      <td>1</td>\n      <td>0</td>\n    </tr>\n    <tr>\n      <th>6</th>\n      <td>245</td>\n      <td>2.0</td>\n      <td>R2</td>\n      <td>1</td>\n      <td>0</td>\n      <td>0</td>\n      <td>0</td>\n      <td>0</td>\n      <td>0</td>\n      <td>0</td>\n      <td>...</td>\n      <td>0</td>\n      <td>0</td>\n      <td>0</td>\n      <td>0</td>\n      <td>0</td>\n      <td>0</td>\n      <td>0</td>\n      <td>3</td>\n      <td>0</td>\n      <td>0</td>\n    </tr>\n    <tr>\n      <th>7</th>\n      <td>3604</td>\n      <td>2.0</td>\n      <td>L2</td>\n      <td>1</td>\n      <td>0</td>\n      <td>0</td>\n      <td>1</td>\n      <td>0</td>\n      <td>0</td>\n      <td>0</td>\n      <td>...</td>\n      <td>0</td>\n      <td>0</td>\n      <td>0</td>\n      <td>1</td>\n      <td>6401</td>\n      <td>0</td>\n      <td>0</td>\n      <td>2</td>\n      <td>0</td>\n      <td>0</td>\n    </tr>\n    <tr>\n      <th>8</th>\n      <td>1792</td>\n      <td>2.0</td>\n      <td>M</td>\n      <td>1</td>\n      <td>0</td>\n      <td>1</td>\n      <td>0</td>\n      <td>0</td>\n      <td>0</td>\n      <td>0</td>\n      <td>...</td>\n      <td>0</td>\n      <td>0</td>\n      <td>0</td>\n      <td>1</td>\n      <td>6401</td>\n      <td>0</td>\n      <td>0</td>\n      <td>3</td>\n      <td>0</td>\n      <td>0</td>\n    </tr>\n    <tr>\n      <th>9</th>\n      <td>5951</td>\n      <td>2.0</td>\n      <td>R2</td>\n      <td>1</td>\n      <td>0</td>\n      <td>0</td>\n      <td>0</td>\n      <td>0</td>\n      <td>2</td>\n      <td>0</td>\n      <td>...</td>\n      <td>0</td>\n      <td>3</td>\n      <td>3</td>\n      <td>0</td>\n      <td>0</td>\n      <td>0</td>\n      <td>0</td>\n      <td>2</td>\n      <td>0</td>\n      <td>0</td>\n    </tr>\n  </tbody>\n</table>\n<p>10 rows × 31 columns</p>\n</div>"
     },
     "metadata": {},
     "execution_count": 4
    }
   ],
   "source": [
    "data = pd.read_csv(\"data/2791_2019dar.csv\")\n",
    "data.head(n = 10)\n"
   ]
  },
  {
   "cell_type": "code",
   "execution_count": 5,
   "metadata": {},
   "outputs": [
    {
     "output_type": "execute_result",
     "data": {
      "text/plain": [
       "       Team Number  Match Number  Hab Line 1/0  Auto # H Ship Side  \\\n",
       "count   687.000000    687.000000    687.000000          687.000000   \n",
       "mean   2784.208151     59.796361      0.915575            0.056769   \n",
       "std    2329.773934     34.333039      0.278227            0.231568   \n",
       "min       0.000000      1.000000      0.000000            0.000000   \n",
       "25%     503.000000     30.000000      1.000000            0.000000   \n",
       "50%    2500.000000     60.000000      1.000000            0.000000   \n",
       "75%    4143.000000     90.000000      1.000000            0.000000   \n",
       "max    7885.000000    114.820000      1.000000            1.000000   \n",
       "\n",
       "       Auto # H Ship Front  Auto # C Ship Side  Auto C Rkt Lvl  \\\n",
       "count           687.000000           687.00000      687.000000   \n",
       "mean              0.208151             0.10917        0.001456   \n",
       "std               0.416906             0.31208        0.038152   \n",
       "min               0.000000             0.00000        0.000000   \n",
       "25%               0.000000             0.00000        0.000000   \n",
       "50%               0.000000             0.00000        0.000000   \n",
       "75%               0.000000             0.00000        0.000000   \n",
       "max               2.000000             1.00000        1.000000   \n",
       "\n",
       "       Auto H Rkt Lvl  Auto H Rkt Lvl [2]  Auto # C Dropped  ...  \\\n",
       "count      687.000000          687.000000        687.000000  ...   \n",
       "mean         0.264920            0.056769          0.011645  ...   \n",
       "std          0.555629            0.312019          0.107359  ...   \n",
       "min          0.000000            0.000000          0.000000  ...   \n",
       "25%          0.000000            0.000000          0.000000  ...   \n",
       "50%          0.000000            0.000000          0.000000  ...   \n",
       "75%          0.000000            0.000000          0.000000  ...   \n",
       "max          3.000000            3.000000          1.000000  ...   \n",
       "\n",
       "       Tele Dropped C  Tele Dropped H  Def pl amt  Def pl quality  \\\n",
       "count      687.000000      687.000000  687.000000      687.000000   \n",
       "mean         0.451237        0.314410    0.672489        0.564774   \n",
       "std          0.752175        0.670154    1.199678        1.080484   \n",
       "min          0.000000        0.000000    0.000000        0.000000   \n",
       "25%          0.000000        0.000000    0.000000        0.000000   \n",
       "50%          0.000000        0.000000    0.000000        0.000000   \n",
       "75%          1.000000        0.000000    1.000000        0.500000   \n",
       "max          4.000000        6.000000    3.000000        4.000000   \n",
       "\n",
       "       Def rec amt  Who Played D  Fouls? 0/1    Dead 0-3  Highest success  \\\n",
       "count   687.000000    687.000000  687.000000  687.000000       687.000000   \n",
       "mean     10.336245    828.612809    0.037846    0.069869         1.650655   \n",
       "std     259.650133   1995.514072    0.190962    0.401612         1.001571   \n",
       "min       0.000000      0.000000    0.000000    0.000000         0.000000   \n",
       "25%       0.000000      0.000000    0.000000    0.000000         1.000000   \n",
       "50%       0.000000      0.000000    0.000000    0.000000         2.000000   \n",
       "75%       0.000000      0.000000    0.000000    0.000000         3.000000   \n",
       "max    6806.000000   7889.000000    1.000000    3.000000         3.000000   \n",
       "\n",
       "       Highest attempt  \n",
       "count       687.000000  \n",
       "mean          1.768559  \n",
       "std           1.017486  \n",
       "min           0.000000  \n",
       "25%           1.000000  \n",
       "50%           2.000000  \n",
       "75%           3.000000  \n",
       "max           3.000000  \n",
       "\n",
       "[8 rows x 29 columns]"
      ],
      "text/html": "<div>\n<style scoped>\n    .dataframe tbody tr th:only-of-type {\n        vertical-align: middle;\n    }\n\n    .dataframe tbody tr th {\n        vertical-align: top;\n    }\n\n    .dataframe thead th {\n        text-align: right;\n    }\n</style>\n<table border=\"1\" class=\"dataframe\">\n  <thead>\n    <tr style=\"text-align: right;\">\n      <th></th>\n      <th>Team Number</th>\n      <th>Match Number</th>\n      <th>Hab Line 1/0</th>\n      <th>Auto # H Ship Side</th>\n      <th>Auto # H Ship Front</th>\n      <th>Auto # C Ship Side</th>\n      <th>Auto C Rkt Lvl</th>\n      <th>Auto H Rkt Lvl</th>\n      <th>Auto H Rkt Lvl [2]</th>\n      <th>Auto # C Dropped</th>\n      <th>...</th>\n      <th>Tele Dropped C</th>\n      <th>Tele Dropped H</th>\n      <th>Def pl amt</th>\n      <th>Def pl quality</th>\n      <th>Def rec amt</th>\n      <th>Who Played D</th>\n      <th>Fouls? 0/1</th>\n      <th>Dead 0-3</th>\n      <th>Highest success</th>\n      <th>Highest attempt</th>\n    </tr>\n  </thead>\n  <tbody>\n    <tr>\n      <th>count</th>\n      <td>687.000000</td>\n      <td>687.000000</td>\n      <td>687.000000</td>\n      <td>687.000000</td>\n      <td>687.000000</td>\n      <td>687.00000</td>\n      <td>687.000000</td>\n      <td>687.000000</td>\n      <td>687.000000</td>\n      <td>687.000000</td>\n      <td>...</td>\n      <td>687.000000</td>\n      <td>687.000000</td>\n      <td>687.000000</td>\n      <td>687.000000</td>\n      <td>687.000000</td>\n      <td>687.000000</td>\n      <td>687.000000</td>\n      <td>687.000000</td>\n      <td>687.000000</td>\n      <td>687.000000</td>\n    </tr>\n    <tr>\n      <th>mean</th>\n      <td>2784.208151</td>\n      <td>59.796361</td>\n      <td>0.915575</td>\n      <td>0.056769</td>\n      <td>0.208151</td>\n      <td>0.10917</td>\n      <td>0.001456</td>\n      <td>0.264920</td>\n      <td>0.056769</td>\n      <td>0.011645</td>\n      <td>...</td>\n      <td>0.451237</td>\n      <td>0.314410</td>\n      <td>0.672489</td>\n      <td>0.564774</td>\n      <td>10.336245</td>\n      <td>828.612809</td>\n      <td>0.037846</td>\n      <td>0.069869</td>\n      <td>1.650655</td>\n      <td>1.768559</td>\n    </tr>\n    <tr>\n      <th>std</th>\n      <td>2329.773934</td>\n      <td>34.333039</td>\n      <td>0.278227</td>\n      <td>0.231568</td>\n      <td>0.416906</td>\n      <td>0.31208</td>\n      <td>0.038152</td>\n      <td>0.555629</td>\n      <td>0.312019</td>\n      <td>0.107359</td>\n      <td>...</td>\n      <td>0.752175</td>\n      <td>0.670154</td>\n      <td>1.199678</td>\n      <td>1.080484</td>\n      <td>259.650133</td>\n      <td>1995.514072</td>\n      <td>0.190962</td>\n      <td>0.401612</td>\n      <td>1.001571</td>\n      <td>1.017486</td>\n    </tr>\n    <tr>\n      <th>min</th>\n      <td>0.000000</td>\n      <td>1.000000</td>\n      <td>0.000000</td>\n      <td>0.000000</td>\n      <td>0.000000</td>\n      <td>0.00000</td>\n      <td>0.000000</td>\n      <td>0.000000</td>\n      <td>0.000000</td>\n      <td>0.000000</td>\n      <td>...</td>\n      <td>0.000000</td>\n      <td>0.000000</td>\n      <td>0.000000</td>\n      <td>0.000000</td>\n      <td>0.000000</td>\n      <td>0.000000</td>\n      <td>0.000000</td>\n      <td>0.000000</td>\n      <td>0.000000</td>\n      <td>0.000000</td>\n    </tr>\n    <tr>\n      <th>25%</th>\n      <td>503.000000</td>\n      <td>30.000000</td>\n      <td>1.000000</td>\n      <td>0.000000</td>\n      <td>0.000000</td>\n      <td>0.00000</td>\n      <td>0.000000</td>\n      <td>0.000000</td>\n      <td>0.000000</td>\n      <td>0.000000</td>\n      <td>...</td>\n      <td>0.000000</td>\n      <td>0.000000</td>\n      <td>0.000000</td>\n      <td>0.000000</td>\n      <td>0.000000</td>\n      <td>0.000000</td>\n      <td>0.000000</td>\n      <td>0.000000</td>\n      <td>1.000000</td>\n      <td>1.000000</td>\n    </tr>\n    <tr>\n      <th>50%</th>\n      <td>2500.000000</td>\n      <td>60.000000</td>\n      <td>1.000000</td>\n      <td>0.000000</td>\n      <td>0.000000</td>\n      <td>0.00000</td>\n      <td>0.000000</td>\n      <td>0.000000</td>\n      <td>0.000000</td>\n      <td>0.000000</td>\n      <td>...</td>\n      <td>0.000000</td>\n      <td>0.000000</td>\n      <td>0.000000</td>\n      <td>0.000000</td>\n      <td>0.000000</td>\n      <td>0.000000</td>\n      <td>0.000000</td>\n      <td>0.000000</td>\n      <td>2.000000</td>\n      <td>2.000000</td>\n    </tr>\n    <tr>\n      <th>75%</th>\n      <td>4143.000000</td>\n      <td>90.000000</td>\n      <td>1.000000</td>\n      <td>0.000000</td>\n      <td>0.000000</td>\n      <td>0.00000</td>\n      <td>0.000000</td>\n      <td>0.000000</td>\n      <td>0.000000</td>\n      <td>0.000000</td>\n      <td>...</td>\n      <td>1.000000</td>\n      <td>0.000000</td>\n      <td>1.000000</td>\n      <td>0.500000</td>\n      <td>0.000000</td>\n      <td>0.000000</td>\n      <td>0.000000</td>\n      <td>0.000000</td>\n      <td>3.000000</td>\n      <td>3.000000</td>\n    </tr>\n    <tr>\n      <th>max</th>\n      <td>7885.000000</td>\n      <td>114.820000</td>\n      <td>1.000000</td>\n      <td>1.000000</td>\n      <td>2.000000</td>\n      <td>1.00000</td>\n      <td>1.000000</td>\n      <td>3.000000</td>\n      <td>3.000000</td>\n      <td>1.000000</td>\n      <td>...</td>\n      <td>4.000000</td>\n      <td>6.000000</td>\n      <td>3.000000</td>\n      <td>4.000000</td>\n      <td>6806.000000</td>\n      <td>7889.000000</td>\n      <td>1.000000</td>\n      <td>3.000000</td>\n      <td>3.000000</td>\n      <td>3.000000</td>\n    </tr>\n  </tbody>\n</table>\n<p>8 rows × 29 columns</p>\n</div>"
     },
     "metadata": {},
     "execution_count": 5
    }
   ],
   "source": [
    "data.describe()"
   ]
  },
  {
   "cell_type": "code",
   "execution_count": null,
   "metadata": {},
   "outputs": [],
   "source": []
  }
 ]
}