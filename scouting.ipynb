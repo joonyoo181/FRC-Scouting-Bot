{
 "metadata": {
  "language_info": {
   "codemirror_mode": {
    "name": "ipython",
    "version": 3
   },
   "file_extension": ".py",
   "mimetype": "text/x-python",
   "name": "python",
   "nbconvert_exporter": "python",
   "pygments_lexer": "ipython3",
   "version": "3.8.3-final"
  },
  "orig_nbformat": 2,
  "kernelspec": {
   "name": "pycharm-4f4d433a",
   "language": "python",
   "display_name": "PyCharm (frc-scouting)"
  }
 },
 "nbformat": 4,
 "nbformat_minor": 2,
 "cells": [
  {
   "cell_type": "code",
   "execution_count": 145,
   "metadata": {},
   "outputs": [],
   "source": [
    "import pandas as pd"
   ]
  },
  {
   "cell_type": "code",
   "execution_count": 146,
   "metadata": {},
   "outputs": [],
   "source": [
    "df = pd.read_csv('data/2791_2019dar.csv')"
   ]
  },
  {
   "cell_type": "code",
   "execution_count": 147,
   "outputs": [
    {
     "name": "stdout",
     "output_type": "stream",
     "text": [
      "Available Teams:\n",
      "0        51\n",
      "1       868\n",
      "2      3044\n",
      "3      4381\n",
      "4      3381\n",
      "5      7651\n",
      "6       245\n",
      "7      3604\n",
      "8      1792\n",
      "9      5951\n",
      "10     1690\n",
      "11     6401\n",
      "12     5501\n",
      "13      503\n",
      "14     3618\n",
      "15     3555\n",
      "16     2500\n",
      "17      125\n",
      "18      250\n",
      "19     3624\n",
      "20     1923\n",
      "21     6806\n",
      "22     2337\n",
      "23     1317\n",
      "24      836\n",
      "25     3926\n",
      "26      236\n",
      "27      103\n",
      "28      225\n",
      "29     1918\n",
      "30     2791\n",
      "31     4253\n",
      "32     2502\n",
      "33     5348\n",
      "34     7480\n",
      "35     5943\n",
      "36     4481\n",
      "37     5567\n",
      "38     5811\n",
      "39     2771\n",
      "40      217\n",
      "41     7885\n",
      "42     1058\n",
      "43     3707\n",
      "44      365\n",
      "45      771\n",
      "46     2830\n",
      "47      190\n",
      "48     3146\n",
      "49     1218\n",
      "50     3542\n",
      "51      449\n",
      "52     7462\n",
      "53     7719\n",
      "54     5084\n",
      "55      191\n",
      "56       88\n",
      "57     1676\n",
      "58      175\n",
      "59     3667\n",
      "60      772\n",
      "61     4143\n",
      "62     1024\n",
      "63     7673\n",
      "64     2265\n",
      "65      353\n",
      "66       16\n",
      "70     1781\n",
      "197       0\n",
      "Name: Team Number, dtype: int64\n"
     ]
    }
   ],
   "source": [
    "# Display a list of available teams\n",
    "team_nums = df['Team Number']\n",
    "pd.set_option('display.max_rows', None)\n",
    "print('Available Teams:')\n",
    "print(team_nums.drop_duplicates())\n",
    "pd.reset_option('display.max_rows')"
   ],
   "metadata": {
    "collapsed": false,
    "pycharm": {
     "name": "#%%\n"
    }
   }
  },
  {
   "cell_type": "code",
   "execution_count": 148,
   "metadata": {},
   "outputs": [],
   "source": [
    "# Calculate the average score of a specified team's bot\n",
    "# Parameter team_num: the team number of the team to find the avg score of\n",
    "\n",
    "def avg_score(team_num):\n",
    "\n",
    "    # Creates a new dataframe containing only data for team team_num\n",
    "    teamdf = df[df['Team Number'] == team_num]\n",
    "\n",
    "    total_score = 0\n",
    "\n",
    "    for i in teamdf.index:\n",
    "\n",
    "        # Hab Line Cross\n",
    "        if teamdf['Hab Line 1/0'][i] == 1:\n",
    "            startpos = teamdf['Starting Position'][i]\n",
    "            if startpos == 'L1' or startpos == 'M' or startpos == 'R1':\n",
    "                total_score += 3\n",
    "            elif startpos == 'L2' or startpos == 'R2':\n",
    "                total_score += 6\n",
    "\n",
    "        # Hatch Panels\n",
    "        total_score += 2 * (teamdf['Auto # H Ship Side'][i] + teamdf['Auto # H Ship Front'][i] +\n",
    "                        teamdf['Tele H Ship'][i] + teamdf['Tele Rocket H L1'][i] + teamdf['Tele Rocket H L2'][i] +\n",
    "                        teamdf['Tele Rocket H L3'][i])\n",
    "\n",
    "        if teamdf['Auto H Rkt Lvl'][i] > 0:\n",
    "            total_score += 2\n",
    "\n",
    "        if teamdf['Auto H Rkt Lvl [2]'][i] > 0:\n",
    "            total_score += 2\n",
    "\n",
    "        # Cargo\n",
    "        total_score += 3 * (teamdf['Auto # C Ship Side'][i] + teamdf['Tele C Ship'][i] + teamdf['Tele Rocket C L1'][i] +\n",
    "                        teamdf['Tele Rocket C L2'][i] + teamdf['Tele Rocket C L3'][i])\n",
    "\n",
    "        if teamdf['Auto C Rkt Lvl'][i] > 0:\n",
    "            total_score += 3\n",
    "\n",
    "        # Fouls\n",
    "        if teamdf['Fouls? 0/1'][i] == 1:\n",
    "            total_score -= 7\n",
    "\n",
    "        # Hab Climb Bonus\n",
    "        level = teamdf['Highest success'][i]\n",
    "        if level == 1:\n",
    "            total_score += 3\n",
    "        elif level == 2:\n",
    "            total_score += 6\n",
    "        elif level == 3:\n",
    "            total_score += 12\n",
    "\n",
    "    return total_score / len(teamdf)"
   ]
  },
  {
   "cell_type": "code",
   "execution_count": 149,
   "outputs": [],
   "source": [
    "# Find out the points the team's bot made during the auto\n",
    "def sandstorm_score(df):\n",
    "\n",
    "    total_score = 0\n",
    "\n",
    "    for i in df.index:\n",
    "\n",
    "        # Hatch Panels\n",
    "        total_score += 2 * (df['Auto # H Ship Side'][i] + df['Auto # H Ship Front'][i] )\n",
    "\n",
    "        if df['Auto H Rkt Lvl'][i] > 0:\n",
    "            total_score += 2\n",
    "\n",
    "        if df['Auto H Rkt Lvl [2]'][i] > 0:\n",
    "            total_score += 2\n",
    "\n",
    "        # Cargo\n",
    "        total_score += 3 * (df['Auto # C Ship Side'][i])\n",
    "\n",
    "        if df['Auto C Rkt Lvl'][i] > 0:\n",
    "            total_score += 3\n",
    "\n",
    "    return total_score / len(df)"
   ],
   "metadata": {
    "collapsed": false,
    "pycharm": {
     "name": "#%%\n"
    }
   }
  },
  {
   "cell_type": "code",
   "execution_count": 150,
   "outputs": [],
   "source": [
    "# Find out if the team's bot are good at defending\n",
    "def defense_score(df):\n",
    "\n",
    "    total_score = 0\n",
    "\n",
    "    # Defended For Counter\n",
    "    for i in df.index:\n",
    "\n",
    "        total_score += (df['Def pl amt'][i] * df['Def pl quality'][i])\n",
    "\n",
    "    return total_score / len(df)"
   ],
   "metadata": {
    "collapsed": false,
    "pycharm": {
     "name": "#%%\n"
    }
   }
  },
  {
   "cell_type": "code",
   "execution_count": 151,
   "outputs": [],
   "source": [
    "# Find out how often the team's bot dies\n",
    "def dead_score(df):\n",
    "\n",
    "    total_score = 0\n",
    "\n",
    "    # Dead Counter\n",
    "    for i in df.index:\n",
    "\n",
    "        total_score += df['Dead 0-3']\n",
    "\n",
    "    return total_score / len(df)"
   ],
   "metadata": {
    "collapsed": false,
    "pycharm": {
     "name": "#%%\n"
    }
   }
  },
  {
   "cell_type": "code",
   "execution_count": 152,
   "outputs": [],
   "source": [
    "def view_dashboard(): # Jeremy\n",
    "    print('dashboard')"
   ],
   "metadata": {
    "collapsed": false,
    "pycharm": {
     "name": "#%%\n"
    }
   }
  },
  {
   "cell_type": "code",
   "execution_count": 153,
   "outputs": [],
   "source": [
    "def choose_members():\n",
    "    print('lists')"
   ],
   "metadata": {
    "collapsed": false,
    "pycharm": {
     "name": "#%%\n"
    }
   }
  },
  {
   "cell_type": "code",
   "execution_count": 154,
   "outputs": [
    {
     "name": "stdout",
     "output_type": "stream",
     "text": [
      "dashboard\n"
     ]
    }
   ],
   "source": [
    "# UI\n",
    "while True:\n",
    "    choice = int(input(\"\"\"1 - View analytics dashboard for a specified team. \\n\n",
    "                       2 - Choose alliance members by viewing best scorers, etc. \\n\n",
    "                       Enter either '1' or '2' to select an option:\"\"\"))\n",
    "\n",
    "    if choice == 1:\n",
    "        team_input = int(input('Enter the team number of the team you wish to analyze:'))\n",
    "        view_dashboard()\n",
    "    else:\n",
    "        choose_members()\n",
    "\n",
    "    # print('Average Score of Team', team_input, 'is', avg_score(df, team_input), 'points')\n",
    "    break"
   ],
   "metadata": {
    "collapsed": false,
    "pycharm": {
     "name": "#%%\n"
    }
   }
  },
  {
   "cell_type": "code",
   "execution_count": null,
   "outputs": [],
   "source": [
    "# noinspection JupyterKernel\n",
    "choice = int(input(\"\"\"1 - View analytics dashboard for a specified team \\n\n",
    "                   2 - Choose alliance members by viewing best scorers, etc \\n\n",
    "                   Select option 1 or 2\"\"\"))\n",
    "\n",
    "if choice == 1:\n",
    "    member1 = int(input('Type to team number you wish to analyze'))\n",
    "    viewDashboard()\n",
    "else:\n",
    "    member1 = \n",
    "    chooseMembers()\n",
    "\n",
    "\n",
    "teamInput = int(input('Enter a team number'))\n",
    "print('Average Score of Team', teamInput, 'is', avgScore(df, teamInput), 'points')"
   ],
   "metadata": {
    "collapsed": false,
    "pycharm": {
     "name": "#%%\n"
    }
   }
  },
  {
   "cell_type": "code",
   "execution_count": null,
   "outputs": [],
   "source": [
    "def chooseMembers():\n",
    "    "
   ],
   "metadata": {
    "collapsed": false,
    "pycharm": {
     "name": "#%%\n"
    }
   }
  },
  {
   "cell_type": "code",
   "execution_count": null,
   "outputs": [],
   "source": [
    "# noinspection JupyterKernel\n",
    "choice = int(input(\"\"\"1 - View analytics dashboard for a specified team \\n\n",
    "                   2 - Choose alliance members by viewing best scorers, etc \\n\n",
    "                   Select option 1 or 2\"\"\"))\n",
    "\n",
    "if choice == 1:\n",
    "    member1 = int(input('Type to team number you wish to analyze'))\n",
    "    viewDashboard()\n",
    "else:\n",
    "    member1 = \n",
    "    chooseMembers()\n",
    "\n",
    "\n",
    "teamInput = int(input('Enter a team number'))\n",
    "print('Average Score of Team', teamInput, 'is', avgScore(df, teamInput), 'points')"
   ],
   "metadata": {
    "collapsed": false,
    "pycharm": {
     "name": "#%%\n"
    }
   }
  }
 ]
}