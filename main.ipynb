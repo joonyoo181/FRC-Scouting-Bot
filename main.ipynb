{
 "metadata": {
  "language_info": {
   "codemirror_mode": {
    "name": "ipython",
    "version": 3
   },
   "file_extension": ".py",
   "mimetype": "text/x-python",
   "name": "python",
   "nbconvert_exporter": "python",
   "pygments_lexer": "ipython3",
   "version": "3.7.9-final"
  },
  "orig_nbformat": 2,
  "kernelspec": {
   "name": "python3",
   "display_name": "Python 3"
  }
 },
 "nbformat": 4,
 "nbformat_minor": 2,
 "cells": [
  {
   "cell_type": "code",
   "execution_count": 1,
   "metadata": {},
   "outputs": [],
   "source": [
    "import numpy as np\n",
    "import pandas as pd\n",
   ]
  },
  {
   "cell_type": "code",
   "execution_count": 30,
   "metadata": {},
   "outputs": [
    {
     "output_type": "execute_result",
     "data": {
      "text/plain": [
       "   Team Number  Match Number Starting Position  Hab Line 1/0  \\\n",
       "0           51           1.0                R2             1   \n",
       "1          868           1.0                 M             1   \n",
       "2         3044           1.0                L2             1   \n",
       "3         4381           1.0                R1             1   \n",
       "4         3381           1.0                 M             1   \n",
       "5         7651           1.0                L2             1   \n",
       "6          245           2.0                R2             1   \n",
       "7         3604           2.0                L2             1   \n",
       "8         1792           2.0                 M             1   \n",
       "9         5951           2.0                R2             1   \n",
       "\n",
       "   Auto # H Ship Side  Auto # H Ship Front  Auto # C Ship Side  \\\n",
       "0                   0                    0                   0   \n",
       "1                   0                    1                   0   \n",
       "2                   0                    0                   0   \n",
       "3                   0                    0                   0   \n",
       "4                   0                    0                   0   \n",
       "5                   0                    0                   0   \n",
       "6                   0                    0                   0   \n",
       "7                   0                    0                   1   \n",
       "8                   0                    1                   0   \n",
       "9                   0                    0                   0   \n",
       "\n",
       "   Auto C Rkt Lvl  Auto H Rkt Lvl  Auto H Rkt Lvl [2]  ...  Tele Dropped H  \\\n",
       "0               0               0                   0  ...               1   \n",
       "1               0               0                   0  ...               0   \n",
       "2               0               0                   0  ...               0   \n",
       "3               0               1                   0  ...               1   \n",
       "4               0               0                   0  ...               0   \n",
       "5               0               0                   0  ...               0   \n",
       "6               0               0                   0  ...               0   \n",
       "7               0               0                   0  ...               0   \n",
       "8               0               0                   0  ...               0   \n",
       "9               0               2                   0  ...               0   \n",
       "\n",
       "   Def pl amt  Def pl quality  Def rec amt  Who Played D  Fouls? 0/1  \\\n",
       "0           0               0            0             0           0   \n",
       "1           0               0            0             0           0   \n",
       "2           0               0            0             0           0   \n",
       "3           0               0            0             0           0   \n",
       "4           0               0            0             0           0   \n",
       "5           3               1            0             0           0   \n",
       "6           0               0            0             0           0   \n",
       "7           0               0            1          6401           0   \n",
       "8           0               0            1          6401           0   \n",
       "9           3               3            0             0           0   \n",
       "\n",
       "   Dead 0-3  Highest success  Highest attempt  Was assisted? 1/0  \n",
       "0         0                2                2                  0  \n",
       "1         0                3                3                  0  \n",
       "2         0                1                1                  0  \n",
       "3         0                1                3                  0  \n",
       "4         0                0                0                  0  \n",
       "5         1                1                1                  0  \n",
       "6         0                3                0                  0  \n",
       "7         0                2                0                  0  \n",
       "8         0                3                0                  0  \n",
       "9         0                2                0                  0  \n",
       "\n",
       "[10 rows x 31 columns]"
      ],
      "text/html": "<div>\n<style scoped>\n    .dataframe tbody tr th:only-of-type {\n        vertical-align: middle;\n    }\n\n    .dataframe tbody tr th {\n        vertical-align: top;\n    }\n\n    .dataframe thead th {\n        text-align: right;\n    }\n</style>\n<table border=\"1\" class=\"dataframe\">\n  <thead>\n    <tr style=\"text-align: right;\">\n      <th></th>\n      <th>Team Number</th>\n      <th>Match Number</th>\n      <th>Starting Position</th>\n      <th>Hab Line 1/0</th>\n      <th>Auto # H Ship Side</th>\n      <th>Auto # H Ship Front</th>\n      <th>Auto # C Ship Side</th>\n      <th>Auto C Rkt Lvl</th>\n      <th>Auto H Rkt Lvl</th>\n      <th>Auto H Rkt Lvl [2]</th>\n      <th>...</th>\n      <th>Tele Dropped H</th>\n      <th>Def pl amt</th>\n      <th>Def pl quality</th>\n      <th>Def rec amt</th>\n      <th>Who Played D</th>\n      <th>Fouls? 0/1</th>\n      <th>Dead 0-3</th>\n      <th>Highest success</th>\n      <th>Highest attempt</th>\n      <th>Was assisted? 1/0</th>\n    </tr>\n  </thead>\n  <tbody>\n    <tr>\n      <th>0</th>\n      <td>51</td>\n      <td>1.0</td>\n      <td>R2</td>\n      <td>1</td>\n      <td>0</td>\n      <td>0</td>\n      <td>0</td>\n      <td>0</td>\n      <td>0</td>\n      <td>0</td>\n      <td>...</td>\n      <td>1</td>\n      <td>0</td>\n      <td>0</td>\n      <td>0</td>\n      <td>0</td>\n      <td>0</td>\n      <td>0</td>\n      <td>2</td>\n      <td>2</td>\n      <td>0</td>\n    </tr>\n    <tr>\n      <th>1</th>\n      <td>868</td>\n      <td>1.0</td>\n      <td>M</td>\n      <td>1</td>\n      <td>0</td>\n      <td>1</td>\n      <td>0</td>\n      <td>0</td>\n      <td>0</td>\n      <td>0</td>\n      <td>...</td>\n      <td>0</td>\n      <td>0</td>\n      <td>0</td>\n      <td>0</td>\n      <td>0</td>\n      <td>0</td>\n      <td>0</td>\n      <td>3</td>\n      <td>3</td>\n      <td>0</td>\n    </tr>\n    <tr>\n      <th>2</th>\n      <td>3044</td>\n      <td>1.0</td>\n      <td>L2</td>\n      <td>1</td>\n      <td>0</td>\n      <td>0</td>\n      <td>0</td>\n      <td>0</td>\n      <td>0</td>\n      <td>0</td>\n      <td>...</td>\n      <td>0</td>\n      <td>0</td>\n      <td>0</td>\n      <td>0</td>\n      <td>0</td>\n      <td>0</td>\n      <td>0</td>\n      <td>1</td>\n      <td>1</td>\n      <td>0</td>\n    </tr>\n    <tr>\n      <th>3</th>\n      <td>4381</td>\n      <td>1.0</td>\n      <td>R1</td>\n      <td>1</td>\n      <td>0</td>\n      <td>0</td>\n      <td>0</td>\n      <td>0</td>\n      <td>1</td>\n      <td>0</td>\n      <td>...</td>\n      <td>1</td>\n      <td>0</td>\n      <td>0</td>\n      <td>0</td>\n      <td>0</td>\n      <td>0</td>\n      <td>0</td>\n      <td>1</td>\n      <td>3</td>\n      <td>0</td>\n    </tr>\n    <tr>\n      <th>4</th>\n      <td>3381</td>\n      <td>1.0</td>\n      <td>M</td>\n      <td>1</td>\n      <td>0</td>\n      <td>0</td>\n      <td>0</td>\n      <td>0</td>\n      <td>0</td>\n      <td>0</td>\n      <td>...</td>\n      <td>0</td>\n      <td>0</td>\n      <td>0</td>\n      <td>0</td>\n      <td>0</td>\n      <td>0</td>\n      <td>0</td>\n      <td>0</td>\n      <td>0</td>\n      <td>0</td>\n    </tr>\n    <tr>\n      <th>5</th>\n      <td>7651</td>\n      <td>1.0</td>\n      <td>L2</td>\n      <td>1</td>\n      <td>0</td>\n      <td>0</td>\n      <td>0</td>\n      <td>0</td>\n      <td>0</td>\n      <td>0</td>\n      <td>...</td>\n      <td>0</td>\n      <td>3</td>\n      <td>1</td>\n      <td>0</td>\n      <td>0</td>\n      <td>0</td>\n      <td>1</td>\n      <td>1</td>\n      <td>1</td>\n      <td>0</td>\n    </tr>\n    <tr>\n      <th>6</th>\n      <td>245</td>\n      <td>2.0</td>\n      <td>R2</td>\n      <td>1</td>\n      <td>0</td>\n      <td>0</td>\n      <td>0</td>\n      <td>0</td>\n      <td>0</td>\n      <td>0</td>\n      <td>...</td>\n      <td>0</td>\n      <td>0</td>\n      <td>0</td>\n      <td>0</td>\n      <td>0</td>\n      <td>0</td>\n      <td>0</td>\n      <td>3</td>\n      <td>0</td>\n      <td>0</td>\n    </tr>\n    <tr>\n      <th>7</th>\n      <td>3604</td>\n      <td>2.0</td>\n      <td>L2</td>\n      <td>1</td>\n      <td>0</td>\n      <td>0</td>\n      <td>1</td>\n      <td>0</td>\n      <td>0</td>\n      <td>0</td>\n      <td>...</td>\n      <td>0</td>\n      <td>0</td>\n      <td>0</td>\n      <td>1</td>\n      <td>6401</td>\n      <td>0</td>\n      <td>0</td>\n      <td>2</td>\n      <td>0</td>\n      <td>0</td>\n    </tr>\n    <tr>\n      <th>8</th>\n      <td>1792</td>\n      <td>2.0</td>\n      <td>M</td>\n      <td>1</td>\n      <td>0</td>\n      <td>1</td>\n      <td>0</td>\n      <td>0</td>\n      <td>0</td>\n      <td>0</td>\n      <td>...</td>\n      <td>0</td>\n      <td>0</td>\n      <td>0</td>\n      <td>1</td>\n      <td>6401</td>\n      <td>0</td>\n      <td>0</td>\n      <td>3</td>\n      <td>0</td>\n      <td>0</td>\n    </tr>\n    <tr>\n      <th>9</th>\n      <td>5951</td>\n      <td>2.0</td>\n      <td>R2</td>\n      <td>1</td>\n      <td>0</td>\n      <td>0</td>\n      <td>0</td>\n      <td>0</td>\n      <td>2</td>\n      <td>0</td>\n      <td>...</td>\n      <td>0</td>\n      <td>3</td>\n      <td>3</td>\n      <td>0</td>\n      <td>0</td>\n      <td>0</td>\n      <td>0</td>\n      <td>2</td>\n      <td>0</td>\n      <td>0</td>\n    </tr>\n  </tbody>\n</table>\n<p>10 rows × 31 columns</p>\n</div>"
     },
     "metadata": {},
     "execution_count": 30
    }
   ],
   "source": [
    "data = pd.read_csv(\"data/2791_2019dar.csv\")\n",
    "data.head(n=10)"
   ]
  },
  {
   "cell_type": "code",
   "execution_count": 32,
   "metadata": {},
   "outputs": [
    {
     "output_type": "execute_result",
     "data": {
      "text/plain": [
       "Team Number\n",
       "0       3.000000\n",
       "16      2.400000\n",
       "51      2.800000\n",
       "88      2.666667\n",
       "103     1.909091\n",
       "          ...   \n",
       "7480    1.500000\n",
       "7651    1.000000\n",
       "7673    1.111111\n",
       "7719    0.875000\n",
       "7885    1.100000\n",
       "Name: Highest success, Length: 69, dtype: float64"
      ]
     },
     "metadata": {},
     "execution_count": 32
    }
   ],
   "source": [
    "data.groupby(\"Team Number\")[\"Highest success\"].mean()"
   ]
  },
  {
   "cell_type": "code",
   "execution_count": null,
   "metadata": {},
   "outputs": [],
   "source": []
  }
 ]
}
